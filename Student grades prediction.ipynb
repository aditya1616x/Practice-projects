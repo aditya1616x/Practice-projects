{
 "cells": [
  {
   "cell_type": "code",
   "execution_count": 1,
   "id": "16452dd5",
   "metadata": {},
   "outputs": [],
   "source": [
    "                                #Student grades prediction"
   ]
  },
  {
   "cell_type": "code",
   "execution_count": 20,
   "id": "4c14f3e1",
   "metadata": {},
   "outputs": [],
   "source": [
    "import pandas as pd\n",
    "\n",
    "#Load the data\n",
    "url = \"https://github.com/FlipRoboTechnologies/ML-Datasets/raw/main/Grades/Grades.csv\"\n",
    "data = pd.read_csv(url)\n",
    "\n",
    "#  Prepare the data\n",
    "def extract_year(course_code):\n",
    "    try:\n",
    "        return int(course_code.split('-')[1])\n",
    "    except:\n",
    "        return None\n",
    "\n",
    "# Apply the function to each element in the DataFrame\n",
    "for column in data.columns:\n",
    "    if '-' in column:  # Check for course code\n",
    "        data[column] = data[column].apply(extract_year)\n"
   ]
  },
  {
   "cell_type": "code",
   "execution_count": 21,
   "id": "8909ff1f",
   "metadata": {},
   "outputs": [
    {
     "data": {
      "text/html": [
       "<div>\n",
       "<style scoped>\n",
       "    .dataframe tbody tr th:only-of-type {\n",
       "        vertical-align: middle;\n",
       "    }\n",
       "\n",
       "    .dataframe tbody tr th {\n",
       "        vertical-align: top;\n",
       "    }\n",
       "\n",
       "    .dataframe thead th {\n",
       "        text-align: right;\n",
       "    }\n",
       "</style>\n",
       "<table border=\"1\" class=\"dataframe\">\n",
       "  <thead>\n",
       "    <tr style=\"text-align: right;\">\n",
       "      <th></th>\n",
       "      <th>Seat No.</th>\n",
       "      <th>PH-121</th>\n",
       "      <th>HS-101</th>\n",
       "      <th>CY-105</th>\n",
       "      <th>HS-105/12</th>\n",
       "      <th>MT-111</th>\n",
       "      <th>CS-105</th>\n",
       "      <th>CS-106</th>\n",
       "      <th>EL-102</th>\n",
       "      <th>EE-119</th>\n",
       "      <th>...</th>\n",
       "      <th>CS-312</th>\n",
       "      <th>CS-317</th>\n",
       "      <th>CS-403</th>\n",
       "      <th>CS-421</th>\n",
       "      <th>CS-406</th>\n",
       "      <th>CS-414</th>\n",
       "      <th>CS-419</th>\n",
       "      <th>CS-423</th>\n",
       "      <th>CS-412</th>\n",
       "      <th>CGPA</th>\n",
       "    </tr>\n",
       "  </thead>\n",
       "  <tbody>\n",
       "  </tbody>\n",
       "</table>\n",
       "<p>0 rows × 43 columns</p>\n",
       "</div>"
      ],
      "text/plain": [
       "Empty DataFrame\n",
       "Columns: [Seat No., PH-121, HS-101, CY-105, HS-105/12, MT-111, CS-105, CS-106, EL-102, EE-119, ME-107, CS-107, HS-205/20, MT-222, EE-222, MT-224, CS-210, CS-211, CS-203, CS-214, EE-217, CS-212, CS-215, MT-331, EF-303, HS-304, CS-301, CS-302, TC-383, MT-442, EL-332, CS-318, CS-306, CS-312, CS-317, CS-403, CS-421, CS-406, CS-414, CS-419, CS-423, CS-412, CGPA]\n",
       "Index: []\n",
       "\n",
       "[0 rows x 43 columns]"
      ]
     },
     "execution_count": 21,
     "metadata": {},
     "output_type": "execute_result"
    }
   ],
   "source": [
    "# Remove rows with missing values\n",
    "data_cleaned = data.dropna()\n",
    "data_cleaned"
   ]
  },
  {
   "cell_type": "code",
   "execution_count": 22,
   "id": "4ca171be",
   "metadata": {},
   "outputs": [
    {
     "name": "stdout",
     "output_type": "stream",
     "text": [
      "No samples remaining after data cleaning. Unable to proceed.\n"
     ]
    }
   ],
   "source": [
    "#  Check if any samples remain after cleaning\n",
    "if data_cleaned.shape[0] > 0:\n",
    "    # Step 4: Split the data into features (X) and target variable (y)\n",
    "    X = data_cleaned.drop(columns=['CGPA'])  # Features (grades)\n",
    "    y = data_cleaned['CGPA']  # Target variable\n",
    "\n",
    "    #Split the data into training and testing sets\n",
    "    from sklearn.model_selection import train_test_split\n",
    "\n",
    "    X_train, X_test, y_train, y_test = train_test_split(X, y, test_size=0.2, random_state=42)\n",
    "\n",
    "    #  Choose a model\n",
    "    from sklearn.linear_model import LinearRegression\n",
    "\n",
    "    model = LinearRegression()\n",
    "\n",
    "    # Train the model\n",
    "    model.fit(X_train, y_train)\n",
    "\n",
    "    # Make predictions\n",
    "    y_pred = model.predict(X_test)\n",
    "\n",
    "    # Evaluate the model\n",
    "    from sklearn.metrics import mean_squared_error\n",
    "\n",
    "    rmse = mean_squared_error(y_test, y_pred, squared=False)\n",
    "    print(\"Root Mean Squared Error (RMSE):\", rmse)\n",
    "else:\n",
    "    print(\"No samples remaining after data cleaning. Unable to proceed.\")\n"
   ]
  }
 ],
 "metadata": {
  "kernelspec": {
   "display_name": "Python 3 (ipykernel)",
   "language": "python",
   "name": "python3"
  },
  "language_info": {
   "codemirror_mode": {
    "name": "ipython",
    "version": 3
   },
   "file_extension": ".py",
   "mimetype": "text/x-python",
   "name": "python",
   "nbconvert_exporter": "python",
   "pygments_lexer": "ipython3",
   "version": "3.11.5"
  }
 },
 "nbformat": 4,
 "nbformat_minor": 5
}
