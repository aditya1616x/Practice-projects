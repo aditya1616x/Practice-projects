{
 "cells": [
  {
   "cell_type": "markdown",
   "id": "f92bd423",
   "metadata": {},
   "source": [
    "                                     Titanic survived Project\n"
   ]
  },
  {
   "cell_type": "markdown",
   "id": "c80cac75",
   "metadata": {},
   "source": [
    "# INSTALLING THE REQUIRED DEPENDENCY"
   ]
  },
  {
   "cell_type": "code",
   "execution_count": 1,
   "id": "313bb7c3",
   "metadata": {},
   "outputs": [],
   "source": [
    "import pandas as pd\n",
    "import numpy as np\n",
    "import matplotlib.pyplot as plt \n",
    "import seaborn as sns\n"
   ]
  },
  {
   "cell_type": "code",
   "execution_count": 2,
   "id": "aa143f82",
   "metadata": {
    "scrolled": true
   },
   "outputs": [
    {
     "data": {
      "text/html": [
       "<div>\n",
       "<style scoped>\n",
       "    .dataframe tbody tr th:only-of-type {\n",
       "        vertical-align: middle;\n",
       "    }\n",
       "\n",
       "    .dataframe tbody tr th {\n",
       "        vertical-align: top;\n",
       "    }\n",
       "\n",
       "    .dataframe thead th {\n",
       "        text-align: right;\n",
       "    }\n",
       "</style>\n",
       "<table border=\"1\" class=\"dataframe\">\n",
       "  <thead>\n",
       "    <tr style=\"text-align: right;\">\n",
       "      <th></th>\n",
       "      <th>Survived</th>\n",
       "      <th>Pclass</th>\n",
       "      <th>Name</th>\n",
       "      <th>Sex</th>\n",
       "      <th>Age</th>\n",
       "      <th>SibSp</th>\n",
       "      <th>Parch</th>\n",
       "      <th>Ticket</th>\n",
       "      <th>Fare</th>\n",
       "      <th>Cabin</th>\n",
       "      <th>Embarked</th>\n",
       "    </tr>\n",
       "    <tr>\n",
       "      <th>PassengerId</th>\n",
       "      <th></th>\n",
       "      <th></th>\n",
       "      <th></th>\n",
       "      <th></th>\n",
       "      <th></th>\n",
       "      <th></th>\n",
       "      <th></th>\n",
       "      <th></th>\n",
       "      <th></th>\n",
       "      <th></th>\n",
       "      <th></th>\n",
       "    </tr>\n",
       "  </thead>\n",
       "  <tbody>\n",
       "    <tr>\n",
       "      <th>892</th>\n",
       "      <td>0</td>\n",
       "      <td>3</td>\n",
       "      <td>Kelly, Mr. James</td>\n",
       "      <td>male</td>\n",
       "      <td>34.5</td>\n",
       "      <td>0</td>\n",
       "      <td>0</td>\n",
       "      <td>330911</td>\n",
       "      <td>7.8292</td>\n",
       "      <td>NaN</td>\n",
       "      <td>Q</td>\n",
       "    </tr>\n",
       "    <tr>\n",
       "      <th>893</th>\n",
       "      <td>1</td>\n",
       "      <td>3</td>\n",
       "      <td>Wilkes, Mrs. James (Ellen Needs)</td>\n",
       "      <td>female</td>\n",
       "      <td>47.0</td>\n",
       "      <td>1</td>\n",
       "      <td>0</td>\n",
       "      <td>363272</td>\n",
       "      <td>7.0000</td>\n",
       "      <td>NaN</td>\n",
       "      <td>S</td>\n",
       "    </tr>\n",
       "    <tr>\n",
       "      <th>894</th>\n",
       "      <td>0</td>\n",
       "      <td>2</td>\n",
       "      <td>Myles, Mr. Thomas Francis</td>\n",
       "      <td>male</td>\n",
       "      <td>62.0</td>\n",
       "      <td>0</td>\n",
       "      <td>0</td>\n",
       "      <td>240276</td>\n",
       "      <td>9.6875</td>\n",
       "      <td>NaN</td>\n",
       "      <td>Q</td>\n",
       "    </tr>\n",
       "    <tr>\n",
       "      <th>895</th>\n",
       "      <td>0</td>\n",
       "      <td>3</td>\n",
       "      <td>Wirz, Mr. Albert</td>\n",
       "      <td>male</td>\n",
       "      <td>27.0</td>\n",
       "      <td>0</td>\n",
       "      <td>0</td>\n",
       "      <td>315154</td>\n",
       "      <td>8.6625</td>\n",
       "      <td>NaN</td>\n",
       "      <td>S</td>\n",
       "    </tr>\n",
       "    <tr>\n",
       "      <th>896</th>\n",
       "      <td>1</td>\n",
       "      <td>3</td>\n",
       "      <td>Hirvonen, Mrs. Alexander (Helga E Lindqvist)</td>\n",
       "      <td>female</td>\n",
       "      <td>22.0</td>\n",
       "      <td>1</td>\n",
       "      <td>1</td>\n",
       "      <td>3101298</td>\n",
       "      <td>12.2875</td>\n",
       "      <td>NaN</td>\n",
       "      <td>S</td>\n",
       "    </tr>\n",
       "  </tbody>\n",
       "</table>\n",
       "</div>"
      ],
      "text/plain": [
       "             Survived  Pclass                                          Name  \\\n",
       "PassengerId                                                                   \n",
       "892                 0       3                              Kelly, Mr. James   \n",
       "893                 1       3              Wilkes, Mrs. James (Ellen Needs)   \n",
       "894                 0       2                     Myles, Mr. Thomas Francis   \n",
       "895                 0       3                              Wirz, Mr. Albert   \n",
       "896                 1       3  Hirvonen, Mrs. Alexander (Helga E Lindqvist)   \n",
       "\n",
       "                Sex   Age  SibSp  Parch   Ticket     Fare Cabin Embarked  \n",
       "PassengerId                                                               \n",
       "892            male  34.5      0      0   330911   7.8292   NaN        Q  \n",
       "893          female  47.0      1      0   363272   7.0000   NaN        S  \n",
       "894            male  62.0      0      0   240276   9.6875   NaN        Q  \n",
       "895            male  27.0      0      0   315154   8.6625   NaN        S  \n",
       "896          female  22.0      1      1  3101298  12.2875   NaN        S  "
      ]
     },
     "execution_count": 2,
     "metadata": {},
     "output_type": "execute_result"
    }
   ],
   "source": [
    "#LOADING ALL THE CSV FILE TO MERGE INTO ONE DATAFRAME\n",
    "gender_submission = pd.read_csv('gender_submission.csv' , index_col='PassengerId')\n",
    "test = pd.read_csv('test.csv' , index_col='PassengerId')\n",
    "train = pd.read_csv('train.csv' , index_col='PassengerId')\n",
    "#JOINING THE DATAFRAMES\n",
    "titanic_data = gender_submission.merge(test, how='inner', on='PassengerId')\n",
    "#overlooking thorugh the data set\n",
    "titanic_data.head()"
   ]
  },
  {
   "cell_type": "code",
   "execution_count": 3,
   "id": "550857c0",
   "metadata": {
    "scrolled": true
   },
   "outputs": [
    {
     "data": {
      "text/html": [
       "<div>\n",
       "<style scoped>\n",
       "    .dataframe tbody tr th:only-of-type {\n",
       "        vertical-align: middle;\n",
       "    }\n",
       "\n",
       "    .dataframe tbody tr th {\n",
       "        vertical-align: top;\n",
       "    }\n",
       "\n",
       "    .dataframe thead th {\n",
       "        text-align: right;\n",
       "    }\n",
       "</style>\n",
       "<table border=\"1\" class=\"dataframe\">\n",
       "  <thead>\n",
       "    <tr style=\"text-align: right;\">\n",
       "      <th></th>\n",
       "      <th>Survived</th>\n",
       "      <th>Pclass</th>\n",
       "      <th>Name</th>\n",
       "      <th>Sex</th>\n",
       "      <th>Age</th>\n",
       "      <th>SibSp</th>\n",
       "      <th>Parch</th>\n",
       "      <th>Ticket</th>\n",
       "      <th>Fare</th>\n",
       "      <th>Cabin</th>\n",
       "      <th>Embarked</th>\n",
       "    </tr>\n",
       "    <tr>\n",
       "      <th>PassengerId</th>\n",
       "      <th></th>\n",
       "      <th></th>\n",
       "      <th></th>\n",
       "      <th></th>\n",
       "      <th></th>\n",
       "      <th></th>\n",
       "      <th></th>\n",
       "      <th></th>\n",
       "      <th></th>\n",
       "      <th></th>\n",
       "      <th></th>\n",
       "    </tr>\n",
       "  </thead>\n",
       "  <tbody>\n",
       "    <tr>\n",
       "      <th>892</th>\n",
       "      <td>0</td>\n",
       "      <td>3</td>\n",
       "      <td>Kelly, Mr. James</td>\n",
       "      <td>male</td>\n",
       "      <td>34.5</td>\n",
       "      <td>0</td>\n",
       "      <td>0</td>\n",
       "      <td>330911</td>\n",
       "      <td>7.8292</td>\n",
       "      <td>NaN</td>\n",
       "      <td>Q</td>\n",
       "    </tr>\n",
       "    <tr>\n",
       "      <th>893</th>\n",
       "      <td>1</td>\n",
       "      <td>3</td>\n",
       "      <td>Wilkes, Mrs. James (Ellen Needs)</td>\n",
       "      <td>female</td>\n",
       "      <td>47.0</td>\n",
       "      <td>1</td>\n",
       "      <td>0</td>\n",
       "      <td>363272</td>\n",
       "      <td>7.0000</td>\n",
       "      <td>NaN</td>\n",
       "      <td>S</td>\n",
       "    </tr>\n",
       "    <tr>\n",
       "      <th>894</th>\n",
       "      <td>0</td>\n",
       "      <td>2</td>\n",
       "      <td>Myles, Mr. Thomas Francis</td>\n",
       "      <td>male</td>\n",
       "      <td>62.0</td>\n",
       "      <td>0</td>\n",
       "      <td>0</td>\n",
       "      <td>240276</td>\n",
       "      <td>9.6875</td>\n",
       "      <td>NaN</td>\n",
       "      <td>Q</td>\n",
       "    </tr>\n",
       "    <tr>\n",
       "      <th>895</th>\n",
       "      <td>0</td>\n",
       "      <td>3</td>\n",
       "      <td>Wirz, Mr. Albert</td>\n",
       "      <td>male</td>\n",
       "      <td>27.0</td>\n",
       "      <td>0</td>\n",
       "      <td>0</td>\n",
       "      <td>315154</td>\n",
       "      <td>8.6625</td>\n",
       "      <td>NaN</td>\n",
       "      <td>S</td>\n",
       "    </tr>\n",
       "    <tr>\n",
       "      <th>896</th>\n",
       "      <td>1</td>\n",
       "      <td>3</td>\n",
       "      <td>Hirvonen, Mrs. Alexander (Helga E Lindqvist)</td>\n",
       "      <td>female</td>\n",
       "      <td>22.0</td>\n",
       "      <td>1</td>\n",
       "      <td>1</td>\n",
       "      <td>3101298</td>\n",
       "      <td>12.2875</td>\n",
       "      <td>NaN</td>\n",
       "      <td>S</td>\n",
       "    </tr>\n",
       "  </tbody>\n",
       "</table>\n",
       "</div>"
      ],
      "text/plain": [
       "             Survived  Pclass                                          Name  \\\n",
       "PassengerId                                                                   \n",
       "892                 0       3                              Kelly, Mr. James   \n",
       "893                 1       3              Wilkes, Mrs. James (Ellen Needs)   \n",
       "894                 0       2                     Myles, Mr. Thomas Francis   \n",
       "895                 0       3                              Wirz, Mr. Albert   \n",
       "896                 1       3  Hirvonen, Mrs. Alexander (Helga E Lindqvist)   \n",
       "\n",
       "                Sex   Age  SibSp  Parch   Ticket     Fare Cabin Embarked  \n",
       "PassengerId                                                               \n",
       "892            male  34.5      0      0   330911   7.8292   NaN        Q  \n",
       "893          female  47.0      1      0   363272   7.0000   NaN        S  \n",
       "894            male  62.0      0      0   240276   9.6875   NaN        Q  \n",
       "895            male  27.0      0      0   315154   8.6625   NaN        S  \n",
       "896          female  22.0      1      1  3101298  12.2875   NaN        S  "
      ]
     },
     "execution_count": 3,
     "metadata": {},
     "output_type": "execute_result"
    }
   ],
   "source": [
    "titanic_data.head()"
   ]
  },
  {
   "cell_type": "markdown",
   "id": "3c0058b7",
   "metadata": {},
   "source": [
    "# DATA ANALYSIS"
   ]
  },
  {
   "cell_type": "code",
   "execution_count": 4,
   "id": "4eb7fad8",
   "metadata": {
    "scrolled": true
   },
   "outputs": [
    {
     "data": {
      "text/plain": [
       "(418, 11)"
      ]
     },
     "execution_count": 4,
     "metadata": {},
     "output_type": "execute_result"
    }
   ],
   "source": [
    "titanic_data.shape"
   ]
  },
  {
   "cell_type": "code",
   "execution_count": 5,
   "id": "61b09d88",
   "metadata": {},
   "outputs": [
    {
     "data": {
      "text/plain": [
       "Index(['Survived', 'Pclass', 'Name', 'Sex', 'Age', 'SibSp', 'Parch', 'Ticket',\n",
       "       'Fare', 'Cabin', 'Embarked'],\n",
       "      dtype='object')"
      ]
     },
     "execution_count": 5,
     "metadata": {},
     "output_type": "execute_result"
    }
   ],
   "source": [
    "titanic_data.columns"
   ]
  },
  {
   "cell_type": "code",
   "execution_count": 6,
   "id": "136239a2",
   "metadata": {
    "scrolled": true
   },
   "outputs": [
    {
     "data": {
      "text/html": [
       "<div>\n",
       "<style scoped>\n",
       "    .dataframe tbody tr th:only-of-type {\n",
       "        vertical-align: middle;\n",
       "    }\n",
       "\n",
       "    .dataframe tbody tr th {\n",
       "        vertical-align: top;\n",
       "    }\n",
       "\n",
       "    .dataframe thead th {\n",
       "        text-align: right;\n",
       "    }\n",
       "</style>\n",
       "<table border=\"1\" class=\"dataframe\">\n",
       "  <thead>\n",
       "    <tr style=\"text-align: right;\">\n",
       "      <th></th>\n",
       "      <th>Survived</th>\n",
       "      <th>Pclass</th>\n",
       "      <th>Age</th>\n",
       "      <th>SibSp</th>\n",
       "      <th>Parch</th>\n",
       "      <th>Fare</th>\n",
       "    </tr>\n",
       "  </thead>\n",
       "  <tbody>\n",
       "    <tr>\n",
       "      <th>count</th>\n",
       "      <td>418.000000</td>\n",
       "      <td>418.000000</td>\n",
       "      <td>332.000000</td>\n",
       "      <td>418.000000</td>\n",
       "      <td>418.000000</td>\n",
       "      <td>417.000000</td>\n",
       "    </tr>\n",
       "    <tr>\n",
       "      <th>mean</th>\n",
       "      <td>0.363636</td>\n",
       "      <td>2.265550</td>\n",
       "      <td>30.272590</td>\n",
       "      <td>0.447368</td>\n",
       "      <td>0.392344</td>\n",
       "      <td>35.627188</td>\n",
       "    </tr>\n",
       "    <tr>\n",
       "      <th>std</th>\n",
       "      <td>0.481622</td>\n",
       "      <td>0.841838</td>\n",
       "      <td>14.181209</td>\n",
       "      <td>0.896760</td>\n",
       "      <td>0.981429</td>\n",
       "      <td>55.907576</td>\n",
       "    </tr>\n",
       "    <tr>\n",
       "      <th>min</th>\n",
       "      <td>0.000000</td>\n",
       "      <td>1.000000</td>\n",
       "      <td>0.170000</td>\n",
       "      <td>0.000000</td>\n",
       "      <td>0.000000</td>\n",
       "      <td>0.000000</td>\n",
       "    </tr>\n",
       "    <tr>\n",
       "      <th>25%</th>\n",
       "      <td>0.000000</td>\n",
       "      <td>1.000000</td>\n",
       "      <td>21.000000</td>\n",
       "      <td>0.000000</td>\n",
       "      <td>0.000000</td>\n",
       "      <td>7.895800</td>\n",
       "    </tr>\n",
       "    <tr>\n",
       "      <th>50%</th>\n",
       "      <td>0.000000</td>\n",
       "      <td>3.000000</td>\n",
       "      <td>27.000000</td>\n",
       "      <td>0.000000</td>\n",
       "      <td>0.000000</td>\n",
       "      <td>14.454200</td>\n",
       "    </tr>\n",
       "    <tr>\n",
       "      <th>75%</th>\n",
       "      <td>1.000000</td>\n",
       "      <td>3.000000</td>\n",
       "      <td>39.000000</td>\n",
       "      <td>1.000000</td>\n",
       "      <td>0.000000</td>\n",
       "      <td>31.500000</td>\n",
       "    </tr>\n",
       "    <tr>\n",
       "      <th>max</th>\n",
       "      <td>1.000000</td>\n",
       "      <td>3.000000</td>\n",
       "      <td>76.000000</td>\n",
       "      <td>8.000000</td>\n",
       "      <td>9.000000</td>\n",
       "      <td>512.329200</td>\n",
       "    </tr>\n",
       "  </tbody>\n",
       "</table>\n",
       "</div>"
      ],
      "text/plain": [
       "         Survived      Pclass         Age       SibSp       Parch        Fare\n",
       "count  418.000000  418.000000  332.000000  418.000000  418.000000  417.000000\n",
       "mean     0.363636    2.265550   30.272590    0.447368    0.392344   35.627188\n",
       "std      0.481622    0.841838   14.181209    0.896760    0.981429   55.907576\n",
       "min      0.000000    1.000000    0.170000    0.000000    0.000000    0.000000\n",
       "25%      0.000000    1.000000   21.000000    0.000000    0.000000    7.895800\n",
       "50%      0.000000    3.000000   27.000000    0.000000    0.000000   14.454200\n",
       "75%      1.000000    3.000000   39.000000    1.000000    0.000000   31.500000\n",
       "max      1.000000    3.000000   76.000000    8.000000    9.000000  512.329200"
      ]
     },
     "execution_count": 6,
     "metadata": {},
     "output_type": "execute_result"
    }
   ],
   "source": [
    "titanic_data.describe()"
   ]
  },
  {
   "cell_type": "code",
   "execution_count": 7,
   "id": "ee7c0cd8",
   "metadata": {
    "scrolled": false
   },
   "outputs": [
    {
     "data": {
      "text/plain": [
       "<Axes: xlabel='Survived', ylabel='count'>"
      ]
     },
     "execution_count": 7,
     "metadata": {},
     "output_type": "execute_result"
    },
    {
     "data": {
      "image/png": "[encoded data removed]",
      "text/plain": [
       "<Figure size 640x480 with 1 Axes>"
      ]
     },
     "metadata": {},
     "output_type": "display_data"
    }
   ],
   "source": [
    "sns.countplot(titanic_data['Survived'].value_counts())"
   ]
  },
  {
   "cell_type": "markdown",
   "id": "7f907d14",
   "metadata": {},
   "source": [
    "it show the equal distrubtion of the servived ratio or this shows the data is balanced"
   ]
  },
  {
   "cell_type": "code",
   "execution_count": 8,
   "id": "58f37bc7",
   "metadata": {},
   "outputs": [
    {
     "name": "stdout",
     "output_type": "stream",
     "text": [
      "Number of duplicate rows: 0\n"
     ]
    }
   ],
   "source": [
    "# Check for duplicate rows\n",
    "duplicates = titanic_data.duplicated().sum()\n",
    "print(f\"Number of duplicate rows: {duplicates}\")"
   ]
  },
  {
   "cell_type": "code",
   "execution_count": 9,
   "id": "eec46085",
   "metadata": {
    "scrolled": false
   },
   "outputs": [
    {
     "data": {
      "text/plain": [
       "<Axes: ylabel='Count'>"
      ]
     },
     "execution_count": 9,
     "metadata": {},
     "output_type": "execute_result"
    },
    {
     "data": {
      "image/png": "[encoded data removed]",
      "text/plain": [
       "<Figure size 640x480 with 1 Axes>"
      ]
     },
     "metadata": {},
     "output_type": "display_data"
    }
   ],
   "source": [
    "sns.histplot(titanic_data)"
   ]
  },
  {
   "cell_type": "markdown",
   "id": "e0ca8379",
   "metadata": {},
   "source": [
    "# DATA PREPROCESSSING \n",
    "# MISSING VALUES"
   ]
  },
  {
   "cell_type": "code",
   "execution_count": 10,
   "id": "de5c31f8",
   "metadata": {
    "scrolled": false
   },
   "outputs": [
    {
     "name": "stdout",
     "output_type": "stream",
     "text": [
      "Age       86\n",
      "Fare       1\n",
      "Cabin    327\n",
      "dtype: int64\n"
     ]
    }
   ],
   "source": [
    "#cheaking for the missing value\n",
    "missing_values = titanic_data.isnull().sum()\n",
    "print(missing_values[ missing_values > 0])"
   ]
  },
  {
   "cell_type": "code",
   "execution_count": 11,
   "id": "3900b20b",
   "metadata": {},
   "outputs": [
    {
     "data": {
      "text/plain": [
       "<Axes: ylabel='PassengerId'>"
      ]
     },
     "execution_count": 11,
     "metadata": {},
     "output_type": "execute_result"
    },
    {
     "data": {
      "image/png": "[encoded data removed]",
      "text/plain": [
       "<Figure size 640x480 with 1 Axes>"
      ]
     },
     "metadata": {},
     "output_type": "display_data"
    }
   ],
   "source": [
    "sns.heatmap(titanic_data.isnull(), cbar=False, cmap='viridis')"
   ]
  },
  {
   "cell_type": "markdown",
   "id": "de702074",
   "metadata": {},
   "source": [
    "HANDILING THE MISSING VALUES AND DROPING UNWANTED FEATURES"
   ]
  },
  {
   "cell_type": "code",
   "execution_count": 12,
   "id": "4d101f55",
   "metadata": {},
   "outputs": [],
   "source": [
    "#droping the trash\n",
    "list_to_drop = ['Name' ,'Cabin' , 'Ticket'  ]\n",
    "titanic_data = titanic_data.drop(columns = list_to_drop)"
   ]
  },
  {
   "cell_type": "code",
   "execution_count": 13,
   "id": "7afa1bb3",
   "metadata": {
    "scrolled": false
   },
   "outputs": [
    {
     "data": {
      "text/html": [
       "<div>\n",
       "<style scoped>\n",
       "    .dataframe tbody tr th:only-of-type {\n",
       "        vertical-align: middle;\n",
       "    }\n",
       "\n",
       "    .dataframe tbody tr th {\n",
       "        vertical-align: top;\n",
       "    }\n",
       "\n",
       "    .dataframe thead th {\n",
       "        text-align: right;\n",
       "    }\n",
       "</style>\n",
       "<table border=\"1\" class=\"dataframe\">\n",
       "  <thead>\n",
       "    <tr style=\"text-align: right;\">\n",
       "      <th></th>\n",
       "      <th>Survived</th>\n",
       "      <th>Pclass</th>\n",
       "      <th>Sex</th>\n",
       "      <th>Age</th>\n",
       "      <th>SibSp</th>\n",
       "      <th>Parch</th>\n",
       "      <th>Fare</th>\n",
       "      <th>Embarked</th>\n",
       "    </tr>\n",
       "    <tr>\n",
       "      <th>PassengerId</th>\n",
       "      <th></th>\n",
       "      <th></th>\n",
       "      <th></th>\n",
       "      <th></th>\n",
       "      <th></th>\n",
       "      <th></th>\n",
       "      <th></th>\n",
       "      <th></th>\n",
       "    </tr>\n",
       "  </thead>\n",
       "  <tbody>\n",
       "    <tr>\n",
       "      <th>892</th>\n",
       "      <td>0</td>\n",
       "      <td>3</td>\n",
       "      <td>male</td>\n",
       "      <td>34.5</td>\n",
       "      <td>0</td>\n",
       "      <td>0</td>\n",
       "      <td>7.8292</td>\n",
       "      <td>Q</td>\n",
       "    </tr>\n",
       "    <tr>\n",
       "      <th>893</th>\n",
       "      <td>1</td>\n",
       "      <td>3</td>\n",
       "      <td>female</td>\n",
       "      <td>47.0</td>\n",
       "      <td>1</td>\n",
       "      <td>0</td>\n",
       "      <td>7.0000</td>\n",
       "      <td>S</td>\n",
       "    </tr>\n",
       "    <tr>\n",
       "      <th>894</th>\n",
       "      <td>0</td>\n",
       "      <td>2</td>\n",
       "      <td>male</td>\n",
       "      <td>62.0</td>\n",
       "      <td>0</td>\n",
       "      <td>0</td>\n",
       "      <td>9.6875</td>\n",
       "      <td>Q</td>\n",
       "    </tr>\n",
       "    <tr>\n",
       "      <th>895</th>\n",
       "      <td>0</td>\n",
       "      <td>3</td>\n",
       "      <td>male</td>\n",
       "      <td>27.0</td>\n",
       "      <td>0</td>\n",
       "      <td>0</td>\n",
       "      <td>8.6625</td>\n",
       "      <td>S</td>\n",
       "    </tr>\n",
       "    <tr>\n",
       "      <th>896</th>\n",
       "      <td>1</td>\n",
       "      <td>3</td>\n",
       "      <td>female</td>\n",
       "      <td>22.0</td>\n",
       "      <td>1</td>\n",
       "      <td>1</td>\n",
       "      <td>12.2875</td>\n",
       "      <td>S</td>\n",
       "    </tr>\n",
       "    <tr>\n",
       "      <th>...</th>\n",
       "      <td>...</td>\n",
       "      <td>...</td>\n",
       "      <td>...</td>\n",
       "      <td>...</td>\n",
       "      <td>...</td>\n",
       "      <td>...</td>\n",
       "      <td>...</td>\n",
       "      <td>...</td>\n",
       "    </tr>\n",
       "    <tr>\n",
       "      <th>1305</th>\n",
       "      <td>0</td>\n",
       "      <td>3</td>\n",
       "      <td>male</td>\n",
       "      <td>NaN</td>\n",
       "      <td>0</td>\n",
       "      <td>0</td>\n",
       "      <td>8.0500</td>\n",
       "      <td>S</td>\n",
       "    </tr>\n",
       "    <tr>\n",
       "      <th>1306</th>\n",
       "      <td>1</td>\n",
       "      <td>1</td>\n",
       "      <td>female</td>\n",
       "      <td>39.0</td>\n",
       "      <td>0</td>\n",
       "      <td>0</td>\n",
       "      <td>108.9000</td>\n",
       "      <td>C</td>\n",
       "    </tr>\n",
       "    <tr>\n",
       "      <th>1307</th>\n",
       "      <td>0</td>\n",
       "      <td>3</td>\n",
       "      <td>male</td>\n",
       "      <td>38.5</td>\n",
       "      <td>0</td>\n",
       "      <td>0</td>\n",
       "      <td>7.2500</td>\n",
       "      <td>S</td>\n",
       "    </tr>\n",
       "    <tr>\n",
       "      <th>1308</th>\n",
       "      <td>0</td>\n",
       "      <td>3</td>\n",
       "      <td>male</td>\n",
       "      <td>NaN</td>\n",
       "      <td>0</td>\n",
       "      <td>0</td>\n",
       "      <td>8.0500</td>\n",
       "      <td>S</td>\n",
       "    </tr>\n",
       "    <tr>\n",
       "      <th>1309</th>\n",
       "      <td>0</td>\n",
       "      <td>3</td>\n",
       "      <td>male</td>\n",
       "      <td>NaN</td>\n",
       "      <td>1</td>\n",
       "      <td>1</td>\n",
       "      <td>22.3583</td>\n",
       "      <td>C</td>\n",
       "    </tr>\n",
       "  </tbody>\n",
       "</table>\n",
       "<p>418 rows × 8 columns</p>\n",
       "</div>"
      ],
      "text/plain": [
       "             Survived  Pclass     Sex   Age  SibSp  Parch      Fare Embarked\n",
       "PassengerId                                                                 \n",
       "892                 0       3    male  34.5      0      0    7.8292        Q\n",
       "893                 1       3  female  47.0      1      0    7.0000        S\n",
       "894                 0       2    male  62.0      0      0    9.6875        Q\n",
       "895                 0       3    male  27.0      0      0    8.6625        S\n",
       "896                 1       3  female  22.0      1      1   12.2875        S\n",
       "...               ...     ...     ...   ...    ...    ...       ...      ...\n",
       "1305                0       3    male   NaN      0      0    8.0500        S\n",
       "1306                1       1  female  39.0      0      0  108.9000        C\n",
       "1307                0       3    male  38.5      0      0    7.2500        S\n",
       "1308                0       3    male   NaN      0      0    8.0500        S\n",
       "1309                0       3    male   NaN      1      1   22.3583        C\n",
       "\n",
       "[418 rows x 8 columns]"
      ]
     },
     "execution_count": 13,
     "metadata": {},
     "output_type": "execute_result"
    }
   ],
   "source": [
    "titanic_data"
   ]
  },
  {
   "cell_type": "code",
   "execution_count": 14,
   "id": "5e229501",
   "metadata": {},
   "outputs": [
    {
     "data": {
      "text/plain": [
       "<Axes: xlabel='Fare', ylabel='Count'>"
      ]
     },
     "execution_count": 14,
     "metadata": {},
     "output_type": "execute_result"
    },
    {
     "data": {
      "image/png": "[encoded data removed]",
      "text/plain": [
       "<Figure size 640x480 with 1 Axes>"
      ]
     },
     "metadata": {},
     "output_type": "display_data"
    }
   ],
   "source": [
    "#for fare \n",
    "sns.histplot(titanic_data['Fare'] , kde = True)"
   ]
  },
  {
   "cell_type": "code",
   "execution_count": 15,
   "id": "986a79f2",
   "metadata": {},
   "outputs": [],
   "source": [
    "#imputating the missing values of Fare\n",
    "titanic_data['Fare'].fillna(titanic_data['Fare'].median() , inplace=True)"
   ]
  },
  {
   "cell_type": "code",
   "execution_count": 16,
   "id": "be86b3ee",
   "metadata": {},
   "outputs": [
    {
     "data": {
      "text/plain": [
       "<Axes: xlabel='Age', ylabel='Count'>"
      ]
     },
     "execution_count": 16,
     "metadata": {},
     "output_type": "execute_result"
    },
    {
     "data": {
      "image/png": "[encoded data removed]",
      "text/plain": [
       "<Figure size 640x480 with 1 Axes>"
      ]
     },
     "metadata": {},
     "output_type": "display_data"
    }
   ],
   "source": [
    "#for age continous data\n",
    "sns.histplot(titanic_data['Age'] , kde= True)"
   ]
  },
  {
   "cell_type": "markdown",
   "id": "c14041c1",
   "metadata": {},
   "source": [
    "THE AGE FEATURE IS BELL SHAPED CUREVED SO WE ARE GOONA USE MEAN TO IMPUTE THE MISSING VALUES"
   ]
  },
  {
   "cell_type": "code",
   "execution_count": 17,
   "id": "15a0dba0",
   "metadata": {},
   "outputs": [],
   "source": [
    "titanic_data['Age'].fillna(titanic_data['Age'].mean() , inplace=True)"
   ]
  },
  {
   "cell_type": "code",
   "execution_count": 18,
   "id": "3ffd1e15",
   "metadata": {
    "scrolled": true
   },
   "outputs": [
    {
     "name": "stdout",
     "output_type": "stream",
     "text": [
      "Series([], dtype: int64)\n"
     ]
    }
   ],
   "source": [
    "missing  = titanic_data.isnull().sum()\n",
    "print(missing [missing > 0])"
   ]
  },
  {
   "cell_type": "code",
   "execution_count": 19,
   "id": "1e13a5bb",
   "metadata": {
    "scrolled": false
   },
   "outputs": [
    {
     "data": {
      "text/plain": [
       "<Axes: ylabel='PassengerId'>"
      ]
     },
     "execution_count": 19,
     "metadata": {},
     "output_type": "execute_result"
    },
    {
     "data": {
      "image/png": "[encoded data removed]",
      "text/plain": [
       "<Figure size 640x480 with 1 Axes>"
      ]
     },
     "metadata": {},
     "output_type": "display_data"
    }
   ],
   "source": [
    "sns.heatmap(titanic_data.isnull(), cbar=False, cmap='viridis')"
   ]
  },
  {
   "cell_type": "markdown",
   "id": "282940fc",
   "metadata": {},
   "source": [
    "so all the missing value have been treated properly now we move futher"
   ]
  },
  {
   "cell_type": "markdown",
   "id": "aedcd83d",
   "metadata": {},
   "source": [
    "#  OULTLIERS"
   ]
  },
  {
   "cell_type": "code",
   "execution_count": 20,
   "id": "b0a14a3b",
   "metadata": {},
   "outputs": [
    {
     "data": {
      "text/plain": [
       "<Axes: >"
      ]
     },
     "execution_count": 20,
     "metadata": {},
     "output_type": "execute_result"
    },
    {
     "data": {
      "image/png": "[encoded data removed]",
      "text/plain": [
       "<Figure size 1400x1000 with 1 Axes>"
      ]
     },
     "metadata": {},
     "output_type": "display_data"
    }
   ],
   "source": [
    "#CHEAKING FOR OUTLIERS\n",
    "plt.figure(figsize = (14 , 10))\n",
    "sns.boxplot(titanic_data)"
   ]
  },
  {
   "cell_type": "markdown",
   "id": "1a570701",
   "metadata": {},
   "source": [
    "SO AS WE CAN SEE THE AGE AND THE FARE FEATURES AND OUTLIERS AND IT IS A SMALL DATA SO THIS OUTLIERS CAN MAKE A POWERFULL IMPACT\n",
    "ON MODEL PERFORMACE SO WE GONNA TREAT THEM."
   ]
  },
  {
   "cell_type": "code",
   "execution_count": 21,
   "id": "d9d401f4",
   "metadata": {},
   "outputs": [
    {
     "data": {
      "text/plain": [
       "<Axes: xlabel='Age', ylabel='Count'>"
      ]
     },
     "execution_count": 21,
     "metadata": {},
     "output_type": "execute_result"
    },
    {
     "data": {
      "image/png": "[encoded data removed]",
      "text/plain": [
       "<Figure size 640x480 with 1 Axes>"
      ]
     },
     "metadata": {},
     "output_type": "display_data"
    }
   ],
   "source": [
    "#CHEAKING THE DISTRIBUTION OG AGE AND FARE SO I CAN CHOOSE BEST METHOD.\n",
    "sns.histplot(titanic_data['Age'] , kde = True)"
   ]
  },
  {
   "cell_type": "code",
   "execution_count": 22,
   "id": "576202df",
   "metadata": {
    "scrolled": false
   },
   "outputs": [
    {
     "data": {
      "text/plain": [
       "<Axes: xlabel='Fare', ylabel='Count'>"
      ]
     },
     "execution_count": 22,
     "metadata": {},
     "output_type": "execute_result"
    },
    {
     "data": {
      "image/png": "[encoded data removed]",
      "text/plain": [
       "<Figure size 640x480 with 1 Axes>"
      ]
     },
     "metadata": {},
     "output_type": "display_data"
    }
   ],
   "source": [
    "sns.histplot(titanic_data['Fare']  , kde = True)"
   ]
  },
  {
   "cell_type": "markdown",
   "id": "64f86813",
   "metadata": {},
   "source": [
    "\n",
    "\n",
    "FOR ASYMETRIC DISTRUBUTION  WE SHOULD GO FOR IQR METHOD AND FOR THE NORMAL DISTRUBAION WE ARE GOOING TO USE THE \n",
    "Z SCORE METHOD TO HANDLE THE OUTLIERS\n"
   ]
  },
  {
   "cell_type": "code",
   "execution_count": 23,
   "id": "58ef579c",
   "metadata": {
    "scrolled": true
   },
   "outputs": [
    {
     "data": {
      "text/plain": [
       "(418, 8)"
      ]
     },
     "execution_count": 23,
     "metadata": {},
     "output_type": "execute_result"
    }
   ],
   "source": [
    "titanic_data.shape"
   ]
  },
  {
   "cell_type": "markdown",
   "id": "83782c12",
   "metadata": {},
   "source": [
    "# INTERQUARTILE RANGE FOR 'FARE'\n"
   ]
  },
  {
   "cell_type": "code",
   "execution_count": 24,
   "id": "e5ac31c9",
   "metadata": {},
   "outputs": [],
   "source": [
    "from scipy import stats\n",
    "#DEFING THE Q1 AND Q3\n",
    "q1 = titanic_data['Fare'].quantile(0.25)\n",
    "q3 = titanic_data['Fare'].quantile(0.75)\n",
    "iqr = q3 - q1\n",
    "#SETIING THE UPPER AND LOWER LIMIT \n",
    "lower_limit = q1 - (1.5 * iqr)\n",
    "upper_limit = q3 + (1.5 * iqr)\n",
    "#filtering outliers \n",
    "titanic_data = titanic_data[(titanic_data['Fare'] >= lower_limit) & (titanic_data['Fare'] <= upper_limit)]"
   ]
  },
  {
   "cell_type": "markdown",
   "id": "1ac313e2",
   "metadata": {},
   "source": [
    "# Z - SCORE FOR AGE "
   ]
  },
  {
   "cell_type": "code",
   "execution_count": 25,
   "id": "867e4673",
   "metadata": {},
   "outputs": [
    {
     "name": "stderr",
     "output_type": "stream",
     "text": [
      "C:\\Users\\adity\\AppData\\Local\\Temp\\ipykernel_11524\\4096007293.py:4: SettingWithCopyWarning: \n",
      "A value is trying to be set on a copy of a slice from a DataFrame.\n",
      "Try using .loc[row_indexer,col_indexer] = value instead\n",
      "\n",
      "See the caveats in the documentation: https://pandas.pydata.org/pandas-docs/stable/user_guide/indexing.html#returning-a-view-versus-a-copy\n",
      "  titanic_data['age_zscore'] = stats.zscore(titanic_data['Age'])\n"
     ]
    }
   ],
   "source": [
    "from scipy import stats\n",
    "# Calculate the Z-score for the 'Age' feature\n",
    "# First, we handle NaN values and then calculate Z-scores\n",
    "titanic_data['age_zscore'] = stats.zscore(titanic_data['Age'])\n",
    "# Define the threshold for outlier removal\n",
    "threshold = 3\n",
    "# Filter out the outliers based on Z-score\n",
    "titanic_data = titanic_data[np.abs(titanic_data['age_zscore']) < threshold]\n",
    "# Drop the Z-score column as it's no longer needed\n",
    "titanic_data = titanic_data.drop(columns=['age_zscore'])"
   ]
  },
  {
   "cell_type": "markdown",
   "id": "ce5f9b16",
   "metadata": {},
   "source": [
    "NOW CHEAKING FOR THE OUTLIER AGIAN\n"
   ]
  },
  {
   "cell_type": "code",
   "execution_count": 26,
   "id": "78b23111",
   "metadata": {},
   "outputs": [
    {
     "name": "stdout",
     "output_type": "stream",
     "text": [
      "Shape after outlier removal: (361, 8) AND OLD SHAPE WAS (418, 8) \n"
     ]
    }
   ],
   "source": [
    "print(\"Shape after outlier removal:\", titanic_data.shape , \"AND OLD SHAPE WAS (418, 8) \")"
   ]
  },
  {
   "cell_type": "markdown",
   "id": "2c0d261e",
   "metadata": {},
   "source": [
    "SO NOW WE HAVE HANDLE THE MISSING VALUES PROPERLY NOW WE ARE PLOT SOME MORE GRAPHS TO UNDERSTAND THE DATASET MORE WELL."
   ]
  },
  {
   "cell_type": "markdown",
   "id": "59ae4b4c",
   "metadata": {},
   "source": [
    "#  Encoding Categorical Variables\n"
   ]
  },
  {
   "cell_type": "code",
   "execution_count": 27,
   "id": "b609af55",
   "metadata": {
    "scrolled": true
   },
   "outputs": [
    {
     "data": {
      "text/plain": [
       "Survived      int64\n",
       "Pclass        int64\n",
       "Sex          object\n",
       "Age         float64\n",
       "SibSp         int64\n",
       "Parch         int64\n",
       "Fare        float64\n",
       "Embarked     object\n",
       "dtype: object"
      ]
     },
     "execution_count": 27,
     "metadata": {},
     "output_type": "execute_result"
    }
   ],
   "source": [
    "titanic_data.dtypes"
   ]
  },
  {
   "cell_type": "code",
   "execution_count": 28,
   "id": "961a2f35",
   "metadata": {},
   "outputs": [],
   "source": [
    "titanic_data[\"Sex\"] = titanic_data[\"Sex\"].map({\"male\" : 0 , \"female\" : 1})"
   ]
  },
  {
   "cell_type": "code",
   "execution_count": 29,
   "id": "4feb610f",
   "metadata": {},
   "outputs": [
    {
     "data": {
      "text/plain": [
       "PassengerId\n",
       "892     0\n",
       "893     1\n",
       "894     0\n",
       "895     0\n",
       "896     1\n",
       "       ..\n",
       "1304    1\n",
       "1305    0\n",
       "1307    0\n",
       "1308    0\n",
       "1309    0\n",
       "Name: Sex, Length: 361, dtype: int64"
      ]
     },
     "execution_count": 29,
     "metadata": {},
     "output_type": "execute_result"
    }
   ],
   "source": [
    "titanic_data[\"Sex\"]"
   ]
  },
  {
   "cell_type": "markdown",
   "id": "e5567e5a",
   "metadata": {},
   "source": [
    "SO THE MALE IS TRANFORMED INTO '0' AND THE FEAMALE IS DENOTED AS \"1\""
   ]
  },
  {
   "cell_type": "code",
   "execution_count": 30,
   "id": "8d25e806",
   "metadata": {},
   "outputs": [
    {
     "data": {
      "text/plain": [
       "(361, 8)"
      ]
     },
     "execution_count": 30,
     "metadata": {},
     "output_type": "execute_result"
    }
   ],
   "source": [
    "titanic_data.shape"
   ]
  },
  {
   "cell_type": "code",
   "execution_count": 31,
   "id": "907f70c7",
   "metadata": {
    "scrolled": true
   },
   "outputs": [
    {
     "data": {
      "text/plain": [
       "3"
      ]
     },
     "execution_count": 31,
     "metadata": {},
     "output_type": "execute_result"
    }
   ],
   "source": [
    "#FOR THE EMBRAKED FEATURES \n",
    "titanic_data[\"Embarked\"].nunique()"
   ]
  },
  {
   "cell_type": "code",
   "execution_count": 32,
   "id": "3d8f0089",
   "metadata": {},
   "outputs": [],
   "source": [
    "titanic_data[\"Embarked\"] = titanic_data[\"Embarked\"].map({'Q' : 0 , 'S' : 1 , 'C' : 2})"
   ]
  },
  {
   "cell_type": "code",
   "execution_count": 33,
   "id": "37da9977",
   "metadata": {},
   "outputs": [
    {
     "data": {
      "text/html": [
       "<div>\n",
       "<style scoped>\n",
       "    .dataframe tbody tr th:only-of-type {\n",
       "        vertical-align: middle;\n",
       "    }\n",
       "\n",
       "    .dataframe tbody tr th {\n",
       "        vertical-align: top;\n",
       "    }\n",
       "\n",
       "    .dataframe thead th {\n",
       "        text-align: right;\n",
       "    }\n",
       "</style>\n",
       "<table border=\"1\" class=\"dataframe\">\n",
       "  <thead>\n",
       "    <tr style=\"text-align: right;\">\n",
       "      <th></th>\n",
       "      <th>Survived</th>\n",
       "      <th>Pclass</th>\n",
       "      <th>Sex</th>\n",
       "      <th>Age</th>\n",
       "      <th>SibSp</th>\n",
       "      <th>Parch</th>\n",
       "      <th>Fare</th>\n",
       "      <th>Embarked</th>\n",
       "    </tr>\n",
       "    <tr>\n",
       "      <th>PassengerId</th>\n",
       "      <th></th>\n",
       "      <th></th>\n",
       "      <th></th>\n",
       "      <th></th>\n",
       "      <th></th>\n",
       "      <th></th>\n",
       "      <th></th>\n",
       "      <th></th>\n",
       "    </tr>\n",
       "  </thead>\n",
       "  <tbody>\n",
       "    <tr>\n",
       "      <th>892</th>\n",
       "      <td>0</td>\n",
       "      <td>3</td>\n",
       "      <td>0</td>\n",
       "      <td>34.50000</td>\n",
       "      <td>0</td>\n",
       "      <td>0</td>\n",
       "      <td>7.8292</td>\n",
       "      <td>0</td>\n",
       "    </tr>\n",
       "    <tr>\n",
       "      <th>893</th>\n",
       "      <td>1</td>\n",
       "      <td>3</td>\n",
       "      <td>1</td>\n",
       "      <td>47.00000</td>\n",
       "      <td>1</td>\n",
       "      <td>0</td>\n",
       "      <td>7.0000</td>\n",
       "      <td>1</td>\n",
       "    </tr>\n",
       "    <tr>\n",
       "      <th>894</th>\n",
       "      <td>0</td>\n",
       "      <td>2</td>\n",
       "      <td>0</td>\n",
       "      <td>62.00000</td>\n",
       "      <td>0</td>\n",
       "      <td>0</td>\n",
       "      <td>9.6875</td>\n",
       "      <td>0</td>\n",
       "    </tr>\n",
       "    <tr>\n",
       "      <th>895</th>\n",
       "      <td>0</td>\n",
       "      <td>3</td>\n",
       "      <td>0</td>\n",
       "      <td>27.00000</td>\n",
       "      <td>0</td>\n",
       "      <td>0</td>\n",
       "      <td>8.6625</td>\n",
       "      <td>1</td>\n",
       "    </tr>\n",
       "    <tr>\n",
       "      <th>896</th>\n",
       "      <td>1</td>\n",
       "      <td>3</td>\n",
       "      <td>1</td>\n",
       "      <td>22.00000</td>\n",
       "      <td>1</td>\n",
       "      <td>1</td>\n",
       "      <td>12.2875</td>\n",
       "      <td>1</td>\n",
       "    </tr>\n",
       "    <tr>\n",
       "      <th>...</th>\n",
       "      <td>...</td>\n",
       "      <td>...</td>\n",
       "      <td>...</td>\n",
       "      <td>...</td>\n",
       "      <td>...</td>\n",
       "      <td>...</td>\n",
       "      <td>...</td>\n",
       "      <td>...</td>\n",
       "    </tr>\n",
       "    <tr>\n",
       "      <th>1304</th>\n",
       "      <td>1</td>\n",
       "      <td>3</td>\n",
       "      <td>1</td>\n",
       "      <td>28.00000</td>\n",
       "      <td>0</td>\n",
       "      <td>0</td>\n",
       "      <td>7.7750</td>\n",
       "      <td>1</td>\n",
       "    </tr>\n",
       "    <tr>\n",
       "      <th>1305</th>\n",
       "      <td>0</td>\n",
       "      <td>3</td>\n",
       "      <td>0</td>\n",
       "      <td>30.27259</td>\n",
       "      <td>0</td>\n",
       "      <td>0</td>\n",
       "      <td>8.0500</td>\n",
       "      <td>1</td>\n",
       "    </tr>\n",
       "    <tr>\n",
       "      <th>1307</th>\n",
       "      <td>0</td>\n",
       "      <td>3</td>\n",
       "      <td>0</td>\n",
       "      <td>38.50000</td>\n",
       "      <td>0</td>\n",
       "      <td>0</td>\n",
       "      <td>7.2500</td>\n",
       "      <td>1</td>\n",
       "    </tr>\n",
       "    <tr>\n",
       "      <th>1308</th>\n",
       "      <td>0</td>\n",
       "      <td>3</td>\n",
       "      <td>0</td>\n",
       "      <td>30.27259</td>\n",
       "      <td>0</td>\n",
       "      <td>0</td>\n",
       "      <td>8.0500</td>\n",
       "      <td>1</td>\n",
       "    </tr>\n",
       "    <tr>\n",
       "      <th>1309</th>\n",
       "      <td>0</td>\n",
       "      <td>3</td>\n",
       "      <td>0</td>\n",
       "      <td>30.27259</td>\n",
       "      <td>1</td>\n",
       "      <td>1</td>\n",
       "      <td>22.3583</td>\n",
       "      <td>2</td>\n",
       "    </tr>\n",
       "  </tbody>\n",
       "</table>\n",
       "<p>361 rows × 8 columns</p>\n",
       "</div>"
      ],
      "text/plain": [
       "             Survived  Pclass  Sex       Age  SibSp  Parch     Fare  Embarked\n",
       "PassengerId                                                                  \n",
       "892                 0       3    0  34.50000      0      0   7.8292         0\n",
       "893                 1       3    1  47.00000      1      0   7.0000         1\n",
       "894                 0       2    0  62.00000      0      0   9.6875         0\n",
       "895                 0       3    0  27.00000      0      0   8.6625         1\n",
       "896                 1       3    1  22.00000      1      1  12.2875         1\n",
       "...               ...     ...  ...       ...    ...    ...      ...       ...\n",
       "1304                1       3    1  28.00000      0      0   7.7750         1\n",
       "1305                0       3    0  30.27259      0      0   8.0500         1\n",
       "1307                0       3    0  38.50000      0      0   7.2500         1\n",
       "1308                0       3    0  30.27259      0      0   8.0500         1\n",
       "1309                0       3    0  30.27259      1      1  22.3583         2\n",
       "\n",
       "[361 rows x 8 columns]"
      ]
     },
     "execution_count": 33,
     "metadata": {},
     "output_type": "execute_result"
    }
   ],
   "source": [
    "titanic_data"
   ]
  },
  {
   "cell_type": "markdown",
   "id": "0582f155",
   "metadata": {},
   "source": [
    "NOW FOLLOWING ARE TRANFROMED INTO BINNARY AND THEY ARE DONTED AS\n",
    "C = Cherbourg WHICH IS \"2\"\n",
    "Q = Queenstown WHICH IS \"0\"\n",
    "S = Southampton WHICH IS \"1\""
   ]
  },
  {
   "cell_type": "code",
   "execution_count": 34,
   "id": "d613fc72",
   "metadata": {},
   "outputs": [
    {
     "data": {
      "text/plain": [
       "Survived      int64\n",
       "Pclass        int64\n",
       "Sex           int64\n",
       "Age         float64\n",
       "SibSp         int64\n",
       "Parch         int64\n",
       "Fare        float64\n",
       "Embarked      int64\n",
       "dtype: object"
      ]
     },
     "execution_count": 34,
     "metadata": {},
     "output_type": "execute_result"
    }
   ],
   "source": [
    "titanic_data.dtypes"
   ]
  },
  {
   "cell_type": "markdown",
   "id": "a8c8f1d1",
   "metadata": {},
   "source": [
    "SO ALL THE OBJECTS ARE ENCODED NOW OUR DATASET IS READY FOR FUTUHER PROCESSS"
   ]
  },
  {
   "cell_type": "markdown",
   "id": "932651ae",
   "metadata": {},
   "source": [
    "#  FEATURE ENGINEERING "
   ]
  },
  {
   "cell_type": "code",
   "execution_count": 35,
   "id": "169f12ef",
   "metadata": {},
   "outputs": [
    {
     "data": {
      "text/plain": [
       "Index(['Survived', 'Pclass', 'Sex', 'Age', 'SibSp', 'Parch', 'Fare',\n",
       "       'Embarked'],\n",
       "      dtype='object')"
      ]
     },
     "execution_count": 35,
     "metadata": {},
     "output_type": "execute_result"
    }
   ],
   "source": [
    "titanic_data.columns"
   ]
  },
  {
   "cell_type": "code",
   "execution_count": 36,
   "id": "0baa01a1",
   "metadata": {},
   "outputs": [],
   "source": [
    "titanic_data[\"Family_size\"] = titanic_data[\"SibSp\" ] + titanic_data[\"Parch\"]"
   ]
  },
  {
   "cell_type": "code",
   "execution_count": 37,
   "id": "775f72f1",
   "metadata": {},
   "outputs": [],
   "source": [
    "list_to_drop = [\"SibSp\" , \"Parch\" ]\n",
    "titanic_data.drop(columns = list_to_drop , inplace = True)"
   ]
  },
  {
   "cell_type": "markdown",
   "id": "21a74965",
   "metadata": {},
   "source": [
    "HERE :\n",
    "Sibsp IS Number of Siblings/Spouses Aboard\n",
    "Parch IS  Number of Parents/Children Aboard\n",
    "SO WE GONNA CONVERT INTO ONE COLUMNS 'FAMILY SIZE'"
   ]
  },
  {
   "cell_type": "markdown",
   "id": "a00687e3",
   "metadata": {},
   "source": [
    "#  SCALLING"
   ]
  },
  {
   "cell_type": "code",
   "execution_count": 38,
   "id": "3cc88c33",
   "metadata": {},
   "outputs": [
    {
     "data": {
      "image/png": "[encoded data removed]",
      "text/plain": [
       "<Figure size 640x480 with 1 Axes>"
      ]
     },
     "metadata": {},
     "output_type": "display_data"
    },
    {
     "data": {
      "image/png": "[encoded data removed]",
      "text/plain": [
       "<Figure size 640x480 with 1 Axes>"
      ]
     },
     "metadata": {},
     "output_type": "display_data"
    },
    {
     "data": {
      "image/png": "[encoded data removed]",
      "text/plain": [
       "<Figure size 640x480 with 1 Axes>"
      ]
     },
     "metadata": {},
     "output_type": "display_data"
    }
   ],
   "source": [
    "#CHEAKING THE DISTRIBUTION OF AGE SO WE CAN APPLY BEST SCALLING METHOD\n",
    "from scipy import stats\n",
    "stats.probplot(titanic_data[\"Age\"] , plot = plt)\n",
    "plt.show()\n",
    "\n",
    "#FOR FARE FEATURE\n",
    "stats.probplot(titanic_data[\"Fare\"],plot = plt)\n",
    "plt.show()\n",
    "\n",
    "#FOR FAMILY SIZE\n",
    "stats.probplot(titanic_data[\"Family_size\"] , plot = plt)\n",
    "plt.show()\n"
   ]
  },
  {
   "cell_type": "code",
   "execution_count": 39,
   "id": "400de620",
   "metadata": {},
   "outputs": [
    {
     "name": "stdout",
     "output_type": "stream",
     "text": [
      "Skewness: 0.22\n",
      "skewness : 1.6\n",
      "skewness : 2.48\n"
     ]
    }
   ],
   "source": [
    "from scipy.stats import skew\n",
    "#CHEAKING THE SKEWNESS OF AGE\n",
    "skewness = skew(titanic_data[\"Age\"])\n",
    "print(f\"Skewness: {skewness.round(2)}\")\n",
    "\n",
    "#NOW SAME FOR FARE FEATURE\n",
    "skewness = skew(titanic_data[\"Fare\"])\n",
    "print(f\"skewness : {skewness.round(2)}\")\n",
    "\n",
    "#LASTLY FOR THE FAMILY SIZE FEATURE\n",
    "skewness = skew(titanic_data[\"Family_size\"])\n",
    "print(f\"skewness : {skewness.round(2)}\")"
   ]
  },
  {
   "cell_type": "markdown",
   "id": "db8f1e67",
   "metadata": {},
   "source": [
    "IF THE SKEWNESS FALLS UNDER \n",
    "\n",
    "Skewness between -0.5 and 0.5: The data is approximately symmetric.\n",
    "\n",
    "Skewness < -0.5: The data is moderately or highly skewed to the left.\n",
    "\n",
    "Skewness > 0.5: The data is moderately or highly skewed to the right.\n",
    "\n",
    "SO FOR THE FEATURE\n",
    "\n",
    "'AGE' IS KIND A NORMAL DISTRIBUTON SO WE GONNA APPLY STANDARDSCALER\n",
    "\n",
    "'FARE' IS SLIGHTLY SKEWED VALUE IS GREATER THAN 0.5 AND SKEWED TOWARD LEFT AS WELL AS SAME WITH \"FAMILY FEATURE\" SO WE GONNA \n",
    "APPLY LOG TRANSFORMATION FOR THE BOTH FEATURE TO SCALE THEM IN A SAME RANGE"
   ]
  },
  {
   "cell_type": "code",
   "execution_count": 40,
   "id": "6265fb5c",
   "metadata": {},
   "outputs": [
    {
     "data": {
      "text/html": [
       "<div>\n",
       "<style scoped>\n",
       "    .dataframe tbody tr th:only-of-type {\n",
       "        vertical-align: middle;\n",
       "    }\n",
       "\n",
       "    .dataframe tbody tr th {\n",
       "        vertical-align: top;\n",
       "    }\n",
       "\n",
       "    .dataframe thead th {\n",
       "        text-align: right;\n",
       "    }\n",
       "</style>\n",
       "<table border=\"1\" class=\"dataframe\">\n",
       "  <thead>\n",
       "    <tr style=\"text-align: right;\">\n",
       "      <th></th>\n",
       "      <th>Survived</th>\n",
       "      <th>Pclass</th>\n",
       "      <th>Sex</th>\n",
       "      <th>Age</th>\n",
       "      <th>Fare</th>\n",
       "      <th>Embarked</th>\n",
       "      <th>Family_size</th>\n",
       "      <th>Age_scaled</th>\n",
       "    </tr>\n",
       "    <tr>\n",
       "      <th>PassengerId</th>\n",
       "      <th></th>\n",
       "      <th></th>\n",
       "      <th></th>\n",
       "      <th></th>\n",
       "      <th></th>\n",
       "      <th></th>\n",
       "      <th></th>\n",
       "      <th></th>\n",
       "    </tr>\n",
       "  </thead>\n",
       "  <tbody>\n",
       "    <tr>\n",
       "      <th>892</th>\n",
       "      <td>0</td>\n",
       "      <td>3</td>\n",
       "      <td>0</td>\n",
       "      <td>34.50000</td>\n",
       "      <td>7.8292</td>\n",
       "      <td>0</td>\n",
       "      <td>0</td>\n",
       "      <td>0.537645</td>\n",
       "    </tr>\n",
       "    <tr>\n",
       "      <th>893</th>\n",
       "      <td>1</td>\n",
       "      <td>3</td>\n",
       "      <td>1</td>\n",
       "      <td>47.00000</td>\n",
       "      <td>7.0000</td>\n",
       "      <td>1</td>\n",
       "      <td>1</td>\n",
       "      <td>1.666929</td>\n",
       "    </tr>\n",
       "    <tr>\n",
       "      <th>894</th>\n",
       "      <td>0</td>\n",
       "      <td>2</td>\n",
       "      <td>0</td>\n",
       "      <td>62.00000</td>\n",
       "      <td>9.6875</td>\n",
       "      <td>0</td>\n",
       "      <td>0</td>\n",
       "      <td>3.022070</td>\n",
       "    </tr>\n",
       "    <tr>\n",
       "      <th>895</th>\n",
       "      <td>0</td>\n",
       "      <td>3</td>\n",
       "      <td>0</td>\n",
       "      <td>27.00000</td>\n",
       "      <td>8.6625</td>\n",
       "      <td>1</td>\n",
       "      <td>0</td>\n",
       "      <td>-0.139925</td>\n",
       "    </tr>\n",
       "    <tr>\n",
       "      <th>896</th>\n",
       "      <td>1</td>\n",
       "      <td>3</td>\n",
       "      <td>1</td>\n",
       "      <td>22.00000</td>\n",
       "      <td>12.2875</td>\n",
       "      <td>1</td>\n",
       "      <td>2</td>\n",
       "      <td>-0.591638</td>\n",
       "    </tr>\n",
       "    <tr>\n",
       "      <th>...</th>\n",
       "      <td>...</td>\n",
       "      <td>...</td>\n",
       "      <td>...</td>\n",
       "      <td>...</td>\n",
       "      <td>...</td>\n",
       "      <td>...</td>\n",
       "      <td>...</td>\n",
       "      <td>...</td>\n",
       "    </tr>\n",
       "    <tr>\n",
       "      <th>1304</th>\n",
       "      <td>1</td>\n",
       "      <td>3</td>\n",
       "      <td>1</td>\n",
       "      <td>28.00000</td>\n",
       "      <td>7.7750</td>\n",
       "      <td>1</td>\n",
       "      <td>0</td>\n",
       "      <td>-0.049582</td>\n",
       "    </tr>\n",
       "    <tr>\n",
       "      <th>1305</th>\n",
       "      <td>0</td>\n",
       "      <td>3</td>\n",
       "      <td>0</td>\n",
       "      <td>30.27259</td>\n",
       "      <td>8.0500</td>\n",
       "      <td>1</td>\n",
       "      <td>0</td>\n",
       "      <td>0.155730</td>\n",
       "    </tr>\n",
       "    <tr>\n",
       "      <th>1307</th>\n",
       "      <td>0</td>\n",
       "      <td>3</td>\n",
       "      <td>0</td>\n",
       "      <td>38.50000</td>\n",
       "      <td>7.2500</td>\n",
       "      <td>1</td>\n",
       "      <td>0</td>\n",
       "      <td>0.899016</td>\n",
       "    </tr>\n",
       "    <tr>\n",
       "      <th>1308</th>\n",
       "      <td>0</td>\n",
       "      <td>3</td>\n",
       "      <td>0</td>\n",
       "      <td>30.27259</td>\n",
       "      <td>8.0500</td>\n",
       "      <td>1</td>\n",
       "      <td>0</td>\n",
       "      <td>0.155730</td>\n",
       "    </tr>\n",
       "    <tr>\n",
       "      <th>1309</th>\n",
       "      <td>0</td>\n",
       "      <td>3</td>\n",
       "      <td>0</td>\n",
       "      <td>30.27259</td>\n",
       "      <td>22.3583</td>\n",
       "      <td>2</td>\n",
       "      <td>2</td>\n",
       "      <td>0.155730</td>\n",
       "    </tr>\n",
       "  </tbody>\n",
       "</table>\n",
       "<p>361 rows × 8 columns</p>\n",
       "</div>"
      ],
      "text/plain": [
       "             Survived  Pclass  Sex       Age     Fare  Embarked  Family_size  \\\n",
       "PassengerId                                                                    \n",
       "892                 0       3    0  34.50000   7.8292         0            0   \n",
       "893                 1       3    1  47.00000   7.0000         1            1   \n",
       "894                 0       2    0  62.00000   9.6875         0            0   \n",
       "895                 0       3    0  27.00000   8.6625         1            0   \n",
       "896                 1       3    1  22.00000  12.2875         1            2   \n",
       "...               ...     ...  ...       ...      ...       ...          ...   \n",
       "1304                1       3    1  28.00000   7.7750         1            0   \n",
       "1305                0       3    0  30.27259   8.0500         1            0   \n",
       "1307                0       3    0  38.50000   7.2500         1            0   \n",
       "1308                0       3    0  30.27259   8.0500         1            0   \n",
       "1309                0       3    0  30.27259  22.3583         2            2   \n",
       "\n",
       "             Age_scaled  \n",
       "PassengerId              \n",
       "892            0.537645  \n",
       "893            1.666929  \n",
       "894            3.022070  \n",
       "895           -0.139925  \n",
       "896           -0.591638  \n",
       "...                 ...  \n",
       "1304          -0.049582  \n",
       "1305           0.155730  \n",
       "1307           0.899016  \n",
       "1308           0.155730  \n",
       "1309           0.155730  \n",
       "\n",
       "[361 rows x 8 columns]"
      ]
     },
     "execution_count": 40,
     "metadata": {},
     "output_type": "execute_result"
    }
   ],
   "source": [
    "#SCALING THE AGE FEAUTURE\n",
    "from sklearn.preprocessing import StandardScaler\n",
    "scaler = StandardScaler()\n",
    "titanic_data[['Age_scaled']] = scaler.fit_transform(titanic_data[['Age']])\n",
    "titanic_data"
   ]
  },
  {
   "cell_type": "code",
   "execution_count": 41,
   "id": "e0a311a6",
   "metadata": {},
   "outputs": [
    {
     "data": {
      "image/png": "[encoded data removed]",
      "text/plain": [
       "<Figure size 800x600 with 2 Axes>"
      ]
     },
     "metadata": {},
     "output_type": "display_data"
    }
   ],
   "source": [
    "#BEFORE SCALLING\n",
    "plt.figure(figsize=(8, 6))\n",
    "plt.subplot(1, 2, 1)\n",
    "sns.violinplot(data=titanic_data[\"Age\"])\n",
    "plt.title('Before Scaling')\n",
    "\n",
    "#AFTER SCALLING\n",
    "plt.subplot(1,2,2)\n",
    "sns.violinplot(titanic_data[\"Age_scaled\"])\n",
    "plt.title('After Scalling')\n",
    "\n",
    "plt.show()"
   ]
  },
  {
   "cell_type": "code",
   "execution_count": 42,
   "id": "22178d47",
   "metadata": {},
   "outputs": [
    {
     "data": {
      "text/html": [
       "<div>\n",
       "<style scoped>\n",
       "    .dataframe tbody tr th:only-of-type {\n",
       "        vertical-align: middle;\n",
       "    }\n",
       "\n",
       "    .dataframe tbody tr th {\n",
       "        vertical-align: top;\n",
       "    }\n",
       "\n",
       "    .dataframe thead th {\n",
       "        text-align: right;\n",
       "    }\n",
       "</style>\n",
       "<table border=\"1\" class=\"dataframe\">\n",
       "  <thead>\n",
       "    <tr style=\"text-align: right;\">\n",
       "      <th></th>\n",
       "      <th>Survived</th>\n",
       "      <th>Pclass</th>\n",
       "      <th>Sex</th>\n",
       "      <th>Age</th>\n",
       "      <th>Fare</th>\n",
       "      <th>Embarked</th>\n",
       "      <th>Family_size</th>\n",
       "      <th>Age_scaled</th>\n",
       "      <th>Fare_log</th>\n",
       "      <th>Family_size_log</th>\n",
       "    </tr>\n",
       "    <tr>\n",
       "      <th>PassengerId</th>\n",
       "      <th></th>\n",
       "      <th></th>\n",
       "      <th></th>\n",
       "      <th></th>\n",
       "      <th></th>\n",
       "      <th></th>\n",
       "      <th></th>\n",
       "      <th></th>\n",
       "      <th></th>\n",
       "      <th></th>\n",
       "    </tr>\n",
       "  </thead>\n",
       "  <tbody>\n",
       "    <tr>\n",
       "      <th>892</th>\n",
       "      <td>0</td>\n",
       "      <td>3</td>\n",
       "      <td>0</td>\n",
       "      <td>34.50000</td>\n",
       "      <td>7.8292</td>\n",
       "      <td>0</td>\n",
       "      <td>0</td>\n",
       "      <td>0.537645</td>\n",
       "      <td>2.178064</td>\n",
       "      <td>0.000000</td>\n",
       "    </tr>\n",
       "    <tr>\n",
       "      <th>893</th>\n",
       "      <td>1</td>\n",
       "      <td>3</td>\n",
       "      <td>1</td>\n",
       "      <td>47.00000</td>\n",
       "      <td>7.0000</td>\n",
       "      <td>1</td>\n",
       "      <td>1</td>\n",
       "      <td>1.666929</td>\n",
       "      <td>2.079442</td>\n",
       "      <td>0.693147</td>\n",
       "    </tr>\n",
       "    <tr>\n",
       "      <th>894</th>\n",
       "      <td>0</td>\n",
       "      <td>2</td>\n",
       "      <td>0</td>\n",
       "      <td>62.00000</td>\n",
       "      <td>9.6875</td>\n",
       "      <td>0</td>\n",
       "      <td>0</td>\n",
       "      <td>3.022070</td>\n",
       "      <td>2.369075</td>\n",
       "      <td>0.000000</td>\n",
       "    </tr>\n",
       "    <tr>\n",
       "      <th>895</th>\n",
       "      <td>0</td>\n",
       "      <td>3</td>\n",
       "      <td>0</td>\n",
       "      <td>27.00000</td>\n",
       "      <td>8.6625</td>\n",
       "      <td>1</td>\n",
       "      <td>0</td>\n",
       "      <td>-0.139925</td>\n",
       "      <td>2.268252</td>\n",
       "      <td>0.000000</td>\n",
       "    </tr>\n",
       "    <tr>\n",
       "      <th>896</th>\n",
       "      <td>1</td>\n",
       "      <td>3</td>\n",
       "      <td>1</td>\n",
       "      <td>22.00000</td>\n",
       "      <td>12.2875</td>\n",
       "      <td>1</td>\n",
       "      <td>2</td>\n",
       "      <td>-0.591638</td>\n",
       "      <td>2.586824</td>\n",
       "      <td>1.098612</td>\n",
       "    </tr>\n",
       "    <tr>\n",
       "      <th>...</th>\n",
       "      <td>...</td>\n",
       "      <td>...</td>\n",
       "      <td>...</td>\n",
       "      <td>...</td>\n",
       "      <td>...</td>\n",
       "      <td>...</td>\n",
       "      <td>...</td>\n",
       "      <td>...</td>\n",
       "      <td>...</td>\n",
       "      <td>...</td>\n",
       "    </tr>\n",
       "    <tr>\n",
       "      <th>1304</th>\n",
       "      <td>1</td>\n",
       "      <td>3</td>\n",
       "      <td>1</td>\n",
       "      <td>28.00000</td>\n",
       "      <td>7.7750</td>\n",
       "      <td>1</td>\n",
       "      <td>0</td>\n",
       "      <td>-0.049582</td>\n",
       "      <td>2.171907</td>\n",
       "      <td>0.000000</td>\n",
       "    </tr>\n",
       "    <tr>\n",
       "      <th>1305</th>\n",
       "      <td>0</td>\n",
       "      <td>3</td>\n",
       "      <td>0</td>\n",
       "      <td>30.27259</td>\n",
       "      <td>8.0500</td>\n",
       "      <td>1</td>\n",
       "      <td>0</td>\n",
       "      <td>0.155730</td>\n",
       "      <td>2.202765</td>\n",
       "      <td>0.000000</td>\n",
       "    </tr>\n",
       "    <tr>\n",
       "      <th>1307</th>\n",
       "      <td>0</td>\n",
       "      <td>3</td>\n",
       "      <td>0</td>\n",
       "      <td>38.50000</td>\n",
       "      <td>7.2500</td>\n",
       "      <td>1</td>\n",
       "      <td>0</td>\n",
       "      <td>0.899016</td>\n",
       "      <td>2.110213</td>\n",
       "      <td>0.000000</td>\n",
       "    </tr>\n",
       "    <tr>\n",
       "      <th>1308</th>\n",
       "      <td>0</td>\n",
       "      <td>3</td>\n",
       "      <td>0</td>\n",
       "      <td>30.27259</td>\n",
       "      <td>8.0500</td>\n",
       "      <td>1</td>\n",
       "      <td>0</td>\n",
       "      <td>0.155730</td>\n",
       "      <td>2.202765</td>\n",
       "      <td>0.000000</td>\n",
       "    </tr>\n",
       "    <tr>\n",
       "      <th>1309</th>\n",
       "      <td>0</td>\n",
       "      <td>3</td>\n",
       "      <td>0</td>\n",
       "      <td>30.27259</td>\n",
       "      <td>22.3583</td>\n",
       "      <td>2</td>\n",
       "      <td>2</td>\n",
       "      <td>0.155730</td>\n",
       "      <td>3.150952</td>\n",
       "      <td>1.098612</td>\n",
       "    </tr>\n",
       "  </tbody>\n",
       "</table>\n",
       "<p>361 rows × 10 columns</p>\n",
       "</div>"
      ],
      "text/plain": [
       "             Survived  Pclass  Sex       Age     Fare  Embarked  Family_size  \\\n",
       "PassengerId                                                                    \n",
       "892                 0       3    0  34.50000   7.8292         0            0   \n",
       "893                 1       3    1  47.00000   7.0000         1            1   \n",
       "894                 0       2    0  62.00000   9.6875         0            0   \n",
       "895                 0       3    0  27.00000   8.6625         1            0   \n",
       "896                 1       3    1  22.00000  12.2875         1            2   \n",
       "...               ...     ...  ...       ...      ...       ...          ...   \n",
       "1304                1       3    1  28.00000   7.7750         1            0   \n",
       "1305                0       3    0  30.27259   8.0500         1            0   \n",
       "1307                0       3    0  38.50000   7.2500         1            0   \n",
       "1308                0       3    0  30.27259   8.0500         1            0   \n",
       "1309                0       3    0  30.27259  22.3583         2            2   \n",
       "\n",
       "             Age_scaled  Fare_log   Family_size_log   \n",
       "PassengerId                                           \n",
       "892            0.537645   2.178064          0.000000  \n",
       "893            1.666929   2.079442          0.693147  \n",
       "894            3.022070   2.369075          0.000000  \n",
       "895           -0.139925   2.268252          0.000000  \n",
       "896           -0.591638   2.586824          1.098612  \n",
       "...                 ...        ...               ...  \n",
       "1304          -0.049582   2.171907          0.000000  \n",
       "1305           0.155730   2.202765          0.000000  \n",
       "1307           0.899016   2.110213          0.000000  \n",
       "1308           0.155730   2.202765          0.000000  \n",
       "1309           0.155730   3.150952          1.098612  \n",
       "\n",
       "[361 rows x 10 columns]"
      ]
     },
     "execution_count": 42,
     "metadata": {},
     "output_type": "execute_result"
    }
   ],
   "source": [
    "#SCALLING THE FARE AND FAMILY SIZE FEATURE WIHT LOG TRANSFORMATION\n",
    "columns_to_scale = [\"Fare\" , \"Family_size\" ]\n",
    "for col in columns_to_scale:\n",
    "    titanic_data[col + \"_log \"] = np.log(titanic_data[col] + 1)\n",
    "titanic_data"
   ]
  },
  {
   "cell_type": "code",
   "execution_count": 43,
   "id": "a9aa610d",
   "metadata": {},
   "outputs": [
    {
     "data": {
      "image/png": "[encoded data removed]",
      "text/plain": [
       "<Figure size 800x600 with 2 Axes>"
      ]
     },
     "metadata": {},
     "output_type": "display_data"
    }
   ],
   "source": [
    "#compaprison of feautres before and after scalling\n",
    "\n",
    "#BEFORE SCALLING OF FARE FEATURE\n",
    "plt.figure(figsize=(8,6))\n",
    "plt.subplot(1,2,1)\n",
    "sns.violinplot(titanic_data[\"Fare\"])\n",
    "plt.title(\"Before scalling\")\n",
    "\n",
    "#AFTER THE SCALLING OF FARE FEATURE\n",
    "plt.subplot(1,2,2)\n",
    "sns.violinplot(titanic_data[\"Fare_log \"])\n",
    "plt.title(\"After scalling\")\n",
    "plt.show()"
   ]
  },
  {
   "cell_type": "markdown",
   "id": "737fb0c2",
   "metadata": {},
   "source": [
    "SO FARE WE HAVE DONE ALL THE ALL THE PRE PROCESSING THINGS NOW LASTLY WE GONNA MOVE TO TRAIN OUR MODEL"
   ]
  },
  {
   "cell_type": "markdown",
   "id": "68b2d18e",
   "metadata": {},
   "source": [
    "# MODEL SELECTION\n",
    "DEFINING THE DEPENDENT AND INDEPENDENT FEATURES"
   ]
  },
  {
   "cell_type": "code",
   "execution_count": 44,
   "id": "3e589b87",
   "metadata": {},
   "outputs": [
    {
     "name": "stdout",
     "output_type": "stream",
     "text": [
      "Survived            1.000000\n",
      "Sex                 1.000000\n",
      "Family_size_log     0.251189\n",
      "Family_size         0.198372\n",
      "Fare_log            0.184075\n",
      "Fare                0.175577\n",
      "Pclass             -0.039529\n",
      "Embarked           -0.081102\n",
      "Age_scaled         -0.090522\n",
      "Age                -0.090522\n",
      "Name: Survived, dtype: float64\n"
     ]
    }
   ],
   "source": [
    "#Assuming titanic_data is your DataFrame containing the Titanic dataset\n",
    "correlation_matrix = titanic_data.corr()\n",
    "\n",
    "# Print the correlation of each feature with the target variable 'Survived'\n",
    "print(correlation_matrix['Survived'].sort_values(ascending=False))"
   ]
  },
  {
   "cell_type": "markdown",
   "id": "5519b474",
   "metadata": {},
   "source": [
    "AS THIS SEX FEATURE CAN CLEARY SHOW THE HIGH CORRELATION WITH THE TARGET VARIBLE WHICH CAN LED TO DATA LEAKAGE AND PROVIDE NEGITITVE\n",
    "IMPACT ON MODEL PERFORMANCE SO WE GONNA REMOVE THIS FEATRUE TOO..."
   ]
  },
  {
   "cell_type": "code",
   "execution_count": 45,
   "id": "b25dcebd",
   "metadata": {},
   "outputs": [],
   "source": [
    "titanic_data.drop(['Sex'] , axis = 1 , inplace=True)"
   ]
  },
  {
   "cell_type": "code",
   "execution_count": 46,
   "id": "50ee69a7",
   "metadata": {},
   "outputs": [],
   "source": [
    "X = titanic_data.drop([\"Survived\"] , axis = 1)\n",
    "Y = titanic_data[\"Survived\"]"
   ]
  },
  {
   "cell_type": "code",
   "execution_count": 47,
   "id": "44053347",
   "metadata": {
    "scrolled": false
   },
   "outputs": [
    {
     "data": {
      "text/html": [
       "<div>\n",
       "<style scoped>\n",
       "    .dataframe tbody tr th:only-of-type {\n",
       "        vertical-align: middle;\n",
       "    }\n",
       "\n",
       "    .dataframe tbody tr th {\n",
       "        vertical-align: top;\n",
       "    }\n",
       "\n",
       "    .dataframe thead th {\n",
       "        text-align: right;\n",
       "    }\n",
       "</style>\n",
       "<table border=\"1\" class=\"dataframe\">\n",
       "  <thead>\n",
       "    <tr style=\"text-align: right;\">\n",
       "      <th></th>\n",
       "      <th>Pclass</th>\n",
       "      <th>Age</th>\n",
       "      <th>Fare</th>\n",
       "      <th>Embarked</th>\n",
       "      <th>Family_size</th>\n",
       "      <th>Age_scaled</th>\n",
       "      <th>Fare_log</th>\n",
       "      <th>Family_size_log</th>\n",
       "    </tr>\n",
       "    <tr>\n",
       "      <th>PassengerId</th>\n",
       "      <th></th>\n",
       "      <th></th>\n",
       "      <th></th>\n",
       "      <th></th>\n",
       "      <th></th>\n",
       "      <th></th>\n",
       "      <th></th>\n",
       "      <th></th>\n",
       "    </tr>\n",
       "  </thead>\n",
       "  <tbody>\n",
       "    <tr>\n",
       "      <th>892</th>\n",
       "      <td>3</td>\n",
       "      <td>34.50000</td>\n",
       "      <td>7.8292</td>\n",
       "      <td>0</td>\n",
       "      <td>0</td>\n",
       "      <td>0.537645</td>\n",
       "      <td>2.178064</td>\n",
       "      <td>0.000000</td>\n",
       "    </tr>\n",
       "    <tr>\n",
       "      <th>893</th>\n",
       "      <td>3</td>\n",
       "      <td>47.00000</td>\n",
       "      <td>7.0000</td>\n",
       "      <td>1</td>\n",
       "      <td>1</td>\n",
       "      <td>1.666929</td>\n",
       "      <td>2.079442</td>\n",
       "      <td>0.693147</td>\n",
       "    </tr>\n",
       "    <tr>\n",
       "      <th>894</th>\n",
       "      <td>2</td>\n",
       "      <td>62.00000</td>\n",
       "      <td>9.6875</td>\n",
       "      <td>0</td>\n",
       "      <td>0</td>\n",
       "      <td>3.022070</td>\n",
       "      <td>2.369075</td>\n",
       "      <td>0.000000</td>\n",
       "    </tr>\n",
       "    <tr>\n",
       "      <th>895</th>\n",
       "      <td>3</td>\n",
       "      <td>27.00000</td>\n",
       "      <td>8.6625</td>\n",
       "      <td>1</td>\n",
       "      <td>0</td>\n",
       "      <td>-0.139925</td>\n",
       "      <td>2.268252</td>\n",
       "      <td>0.000000</td>\n",
       "    </tr>\n",
       "    <tr>\n",
       "      <th>896</th>\n",
       "      <td>3</td>\n",
       "      <td>22.00000</td>\n",
       "      <td>12.2875</td>\n",
       "      <td>1</td>\n",
       "      <td>2</td>\n",
       "      <td>-0.591638</td>\n",
       "      <td>2.586824</td>\n",
       "      <td>1.098612</td>\n",
       "    </tr>\n",
       "    <tr>\n",
       "      <th>...</th>\n",
       "      <td>...</td>\n",
       "      <td>...</td>\n",
       "      <td>...</td>\n",
       "      <td>...</td>\n",
       "      <td>...</td>\n",
       "      <td>...</td>\n",
       "      <td>...</td>\n",
       "      <td>...</td>\n",
       "    </tr>\n",
       "    <tr>\n",
       "      <th>1304</th>\n",
       "      <td>3</td>\n",
       "      <td>28.00000</td>\n",
       "      <td>7.7750</td>\n",
       "      <td>1</td>\n",
       "      <td>0</td>\n",
       "      <td>-0.049582</td>\n",
       "      <td>2.171907</td>\n",
       "      <td>0.000000</td>\n",
       "    </tr>\n",
       "    <tr>\n",
       "      <th>1305</th>\n",
       "      <td>3</td>\n",
       "      <td>30.27259</td>\n",
       "      <td>8.0500</td>\n",
       "      <td>1</td>\n",
       "      <td>0</td>\n",
       "      <td>0.155730</td>\n",
       "      <td>2.202765</td>\n",
       "      <td>0.000000</td>\n",
       "    </tr>\n",
       "    <tr>\n",
       "      <th>1307</th>\n",
       "      <td>3</td>\n",
       "      <td>38.50000</td>\n",
       "      <td>7.2500</td>\n",
       "      <td>1</td>\n",
       "      <td>0</td>\n",
       "      <td>0.899016</td>\n",
       "      <td>2.110213</td>\n",
       "      <td>0.000000</td>\n",
       "    </tr>\n",
       "    <tr>\n",
       "      <th>1308</th>\n",
       "      <td>3</td>\n",
       "      <td>30.27259</td>\n",
       "      <td>8.0500</td>\n",
       "      <td>1</td>\n",
       "      <td>0</td>\n",
       "      <td>0.155730</td>\n",
       "      <td>2.202765</td>\n",
       "      <td>0.000000</td>\n",
       "    </tr>\n",
       "    <tr>\n",
       "      <th>1309</th>\n",
       "      <td>3</td>\n",
       "      <td>30.27259</td>\n",
       "      <td>22.3583</td>\n",
       "      <td>2</td>\n",
       "      <td>2</td>\n",
       "      <td>0.155730</td>\n",
       "      <td>3.150952</td>\n",
       "      <td>1.098612</td>\n",
       "    </tr>\n",
       "  </tbody>\n",
       "</table>\n",
       "<p>361 rows × 8 columns</p>\n",
       "</div>"
      ],
      "text/plain": [
       "             Pclass       Age     Fare  Embarked  Family_size  Age_scaled  \\\n",
       "PassengerId                                                                 \n",
       "892               3  34.50000   7.8292         0            0    0.537645   \n",
       "893               3  47.00000   7.0000         1            1    1.666929   \n",
       "894               2  62.00000   9.6875         0            0    3.022070   \n",
       "895               3  27.00000   8.6625         1            0   -0.139925   \n",
       "896               3  22.00000  12.2875         1            2   -0.591638   \n",
       "...             ...       ...      ...       ...          ...         ...   \n",
       "1304              3  28.00000   7.7750         1            0   -0.049582   \n",
       "1305              3  30.27259   8.0500         1            0    0.155730   \n",
       "1307              3  38.50000   7.2500         1            0    0.899016   \n",
       "1308              3  30.27259   8.0500         1            0    0.155730   \n",
       "1309              3  30.27259  22.3583         2            2    0.155730   \n",
       "\n",
       "             Fare_log   Family_size_log   \n",
       "PassengerId                               \n",
       "892           2.178064          0.000000  \n",
       "893           2.079442          0.693147  \n",
       "894           2.369075          0.000000  \n",
       "895           2.268252          0.000000  \n",
       "896           2.586824          1.098612  \n",
       "...                ...               ...  \n",
       "1304          2.171907          0.000000  \n",
       "1305          2.202765          0.000000  \n",
       "1307          2.110213          0.000000  \n",
       "1308          2.202765          0.000000  \n",
       "1309          3.150952          1.098612  \n",
       "\n",
       "[361 rows x 8 columns]"
      ]
     },
     "execution_count": 47,
     "metadata": {},
     "output_type": "execute_result"
    }
   ],
   "source": [
    "X"
   ]
  },
  {
   "cell_type": "code",
   "execution_count": 48,
   "id": "2245d5a7",
   "metadata": {
    "scrolled": true
   },
   "outputs": [
    {
     "data": {
      "text/plain": [
       "PassengerId\n",
       "892     0\n",
       "893     1\n",
       "894     0\n",
       "895     0\n",
       "896     1\n",
       "       ..\n",
       "1304    1\n",
       "1305    0\n",
       "1307    0\n",
       "1308    0\n",
       "1309    0\n",
       "Name: Survived, Length: 361, dtype: int64"
      ]
     },
     "execution_count": 48,
     "metadata": {},
     "output_type": "execute_result"
    }
   ],
   "source": [
    "Y"
   ]
  },
  {
   "cell_type": "code",
   "execution_count": 49,
   "id": "d93f64a0",
   "metadata": {},
   "outputs": [],
   "source": [
    "#IMPORTING THE MODEL ON WE WE GONNA TRAIN OUT DATA\n",
    "from sklearn.model_selection import train_test_split\n",
    "from sklearn.tree import DecisionTreeClassifier\n",
    "from sklearn.svm import SVC\n",
    "from sklearn.ensemble import RandomForestClassifier, GradientBoostingClassifier\n",
    "from sklearn.neighbors import KNeighborsClassifier\n",
    "from sklearn.linear_model import LogisticRegression\n",
    "from sklearn.metrics import accuracy_score"
   ]
  },
  {
   "cell_type": "code",
   "execution_count": 50,
   "id": "9e6bf600",
   "metadata": {
    "scrolled": false
   },
   "outputs": [
    {
     "name": "stdout",
     "output_type": "stream",
     "text": [
      "Accuracy score for DecisionTreeClassifier:\n",
      "Training Accuracy = 0.9762\n",
      "Test Accuracy = 0.6514\n",
      "Accuracy score for SVC:\n",
      "Training Accuracy = 0.6587\n",
      "Test Accuracy = 0.6789\n",
      "Accuracy score for RandomForestClassifier:\n",
      "Training Accuracy = 0.9762\n",
      "Test Accuracy = 0.6606\n",
      "Accuracy score for KNeighborsClassifier:\n",
      "Training Accuracy = 0.75\n",
      "Test Accuracy = 0.6789\n",
      "Accuracy score for LogisticRegression:\n",
      "Training Accuracy = 0.6706\n",
      "Test Accuracy = 0.6697\n",
      "Accuracy score for GradientBoostingClassifier:\n",
      "Training Accuracy = 0.9325\n",
      "Test Accuracy = 0.6789\n"
     ]
    },
    {
     "name": "stderr",
     "output_type": "stream",
     "text": [
      "C:\\Users\\adity\\AppData\\Roaming\\Python\\Python311\\site-packages\\sklearn\\linear_model\\_logistic.py:469: ConvergenceWarning: lbfgs failed to converge (status=1):\n",
      "STOP: TOTAL NO. of ITERATIONS REACHED LIMIT.\n",
      "\n",
      "Increase the number of iterations (max_iter) or scale the data as shown in:\n",
      "    https://scikit-learn.org/stable/modules/preprocessing.html\n",
      "Please also refer to the documentation for alternative solver options:\n",
      "    https://scikit-learn.org/stable/modules/linear_model.html#logistic-regression\n",
      "  n_iter_i = _check_optimize_result(\n"
     ]
    }
   ],
   "source": [
    "# Define your models\n",
    "models = {\n",
    "    'DecisionTreeClassifier': DecisionTreeClassifier(),\n",
    "    'SVC': SVC(),\n",
    "    'RandomForestClassifier': RandomForestClassifier(),\n",
    "    'KNeighborsClassifier': KNeighborsClassifier(),\n",
    "    'LogisticRegression': LogisticRegression(),\n",
    "    'GradientBoostingClassifier': GradientBoostingClassifier()\n",
    "}\n",
    "\n",
    "# Split the data into train and test sets\n",
    "X_train, X_test, Y_train, Y_test = train_test_split(X, Y, test_size=0.3, random_state=42)\n",
    "\n",
    "# Function to fit and evaluate all models\n",
    "def best_model(X_train, Y_train, X_test, Y_test):\n",
    "    for model_name, model in models.items():\n",
    "        # Fitting the model\n",
    "        model.fit(X_train, Y_train)\n",
    "    \n",
    "        # Predicting and evaluating on training data\n",
    "        Y_train_pred = model.predict(X_train)\n",
    "        train_accuracy = accuracy_score(Y_train, Y_train_pred)\n",
    "        \n",
    "        # Predicting and evaluating on test data\n",
    "        Y_test_pred = model.predict(X_test)\n",
    "        test_accuracy = accuracy_score(Y_test, Y_test_pred)\n",
    "    \n",
    "        print(f'Accuracy score for {model_name}:')\n",
    "        print(f'Training Accuracy = {train_accuracy:.4}')\n",
    "        print(f'Test Accuracy = {test_accuracy:.4}')\n",
    "\n",
    "best_model(X_train, Y_train, X_test, Y_test)\n"
   ]
  },
  {
   "cell_type": "markdown",
   "id": "5ca20786",
   "metadata": {},
   "source": [
    "# HYPER PARAMETER TUNIING"
   ]
  },
  {
   "cell_type": "code",
   "execution_count": 51,
   "id": "ceedeaf0",
   "metadata": {},
   "outputs": [],
   "source": [
    "#Define the Models and Hyperparameter Grids\n",
    "\n",
    "models = {\n",
    "    'DecisionTreeClassifier': DecisionTreeClassifier(),\n",
    "    'SVC': SVC(),\n",
    "    'RandomForestClassifier': RandomForestClassifier(),\n",
    "    'KNeighborsClassifier': KNeighborsClassifier(),\n",
    "    'LogisticRegression': LogisticRegression(),\n",
    "    'GradientBoostingClassifier': GradientBoostingClassifier()\n",
    "}\n",
    "\n",
    "param_grids = {\n",
    "    'DecisionTreeClassifier': {\n",
    "        'criterion': ['gini', 'entropy'],\n",
    "        'max_depth': [None, 10, 20, 30, 40, 50],\n",
    "        'min_samples_split': [2, 5, 10]\n",
    "    },\n",
    "    'SVC': {\n",
    "        'C': np.logspace(-3, 2, 6),\n",
    "        'kernel': ['linear', 'rbf', 'poly', 'sigmoid'],\n",
    "        'gamma': ['scale', 'auto']\n",
    "    },\n",
    "    'RandomForestClassifier': {\n",
    "        'n_estimators': [50, 100, 200],\n",
    "        'max_depth': [None, 10, 20, 30, 40, 50],\n",
    "        'min_samples_split': [2, 5, 10]\n",
    "    },\n",
    "    'KNeighborsClassifier': {\n",
    "        'n_neighbors': range(1, 31),\n",
    "        'weights': ['uniform', 'distance'],\n",
    "        'metric': ['euclidean', 'manhattan']\n",
    "    },\n",
    "    'LogisticRegression': {\n",
    "        'C': np.logspace(-3, 4, 10),\n",
    "        'penalty': ['l1', 'l2', 'elasticnet'],\n",
    "        'solver': ['liblinear', 'saga']\n",
    "    },\n",
    "    'GradientBoostingClassifier': {\n",
    "        'n_estimators': [50, 100, 200],\n",
    "        'learning_rate': [0.001, 0.01, 0.1, 0.5, 1.0],\n",
    "        'max_depth': [3, 5, 10]\n",
    "    }\n",
    "}\n"
   ]
  },
  {
   "cell_type": "code",
   "execution_count": 52,
   "id": "223f8208",
   "metadata": {
    "scrolled": false
   },
   "outputs": [
    {
     "name": "stdout",
     "output_type": "stream",
     "text": [
      "Running RandomizedSearchCV for DecisionTreeClassifier...\n"
     ]
    },
    {
     "name": "stderr",
     "output_type": "stream",
     "text": [
      "C:\\Users\\adity\\AppData\\Roaming\\Python\\Python311\\site-packages\\sklearn\\model_selection\\_search.py:318: UserWarning: The total space of parameters 36 is smaller than n_iter=50. Running 36 iterations. For exhaustive searches, use GridSearchCV.\n",
      "  warnings.warn(\n"
     ]
    },
    {
     "name": "stdout",
     "output_type": "stream",
     "text": [
      "Best parameters for DecisionTreeClassifier: {'min_samples_split': 10, 'max_depth': 20, 'criterion': 'entropy'}\n",
      "Best cross-validation score: 0.6475\n",
      "Test Accuracy = 0.5872\n",
      "--------------------------------------------------\n",
      "Running RandomizedSearchCV for SVC...\n"
     ]
    },
    {
     "name": "stderr",
     "output_type": "stream",
     "text": [
      "C:\\Users\\adity\\AppData\\Roaming\\Python\\Python311\\site-packages\\sklearn\\model_selection\\_search.py:318: UserWarning: The total space of parameters 48 is smaller than n_iter=50. Running 48 iterations. For exhaustive searches, use GridSearchCV.\n",
      "  warnings.warn(\n"
     ]
    },
    {
     "ename": "KeyboardInterrupt",
     "evalue": "",
     "output_type": "error",
     "traceback": [
      "\u001b[1;31m---------------------------------------------------------------------------\u001b[0m",
      "\u001b[1;31mKeyboardInterrupt\u001b[0m                         Traceback (most recent call last)",
      "Cell \u001b[1;32mIn[52], line 14\u001b[0m\n\u001b[0;32m      9\u001b[0m cv \u001b[38;5;241m=\u001b[39m StratifiedKFold(n_splits\u001b[38;5;241m=\u001b[39m\u001b[38;5;241m5\u001b[39m, shuffle\u001b[38;5;241m=\u001b[39m\u001b[38;5;28;01mTrue\u001b[39;00m, random_state\u001b[38;5;241m=\u001b[39m\u001b[38;5;241m42\u001b[39m)\n\u001b[0;32m     11\u001b[0m search \u001b[38;5;241m=\u001b[39m RandomizedSearchCV(\n\u001b[0;32m     12\u001b[0m     model, param_grid, n_iter\u001b[38;5;241m=\u001b[39m\u001b[38;5;241m50\u001b[39m, scoring\u001b[38;5;241m=\u001b[39m\u001b[38;5;124m'\u001b[39m\u001b[38;5;124maccuracy\u001b[39m\u001b[38;5;124m'\u001b[39m, cv\u001b[38;5;241m=\u001b[39mcv, n_jobs\u001b[38;5;241m=\u001b[39m\u001b[38;5;241m-\u001b[39m\u001b[38;5;241m1\u001b[39m, random_state\u001b[38;5;241m=\u001b[39m\u001b[38;5;241m42\u001b[39m\n\u001b[0;32m     13\u001b[0m )\n\u001b[1;32m---> 14\u001b[0m search\u001b[38;5;241m.\u001b[39mfit(X_train, Y_train)\n\u001b[0;32m     16\u001b[0m best_model \u001b[38;5;241m=\u001b[39m search\u001b[38;5;241m.\u001b[39mbest_estimator_\n\u001b[0;32m     17\u001b[0m best_score \u001b[38;5;241m=\u001b[39m search\u001b[38;5;241m.\u001b[39mbest_score_\n",
      "File \u001b[1;32m~\\AppData\\Roaming\\Python\\Python311\\site-packages\\sklearn\\base.py:1474\u001b[0m, in \u001b[0;36m_fit_context.<locals>.decorator.<locals>.wrapper\u001b[1;34m(estimator, *args, **kwargs)\u001b[0m\n\u001b[0;32m   1467\u001b[0m     estimator\u001b[38;5;241m.\u001b[39m_validate_params()\n\u001b[0;32m   1469\u001b[0m \u001b[38;5;28;01mwith\u001b[39;00m config_context(\n\u001b[0;32m   1470\u001b[0m     skip_parameter_validation\u001b[38;5;241m=\u001b[39m(\n\u001b[0;32m   1471\u001b[0m         prefer_skip_nested_validation \u001b[38;5;129;01mor\u001b[39;00m global_skip_validation\n\u001b[0;32m   1472\u001b[0m     )\n\u001b[0;32m   1473\u001b[0m ):\n\u001b[1;32m-> 1474\u001b[0m     \u001b[38;5;28;01mreturn\u001b[39;00m fit_method(estimator, \u001b[38;5;241m*\u001b[39margs, \u001b[38;5;241m*\u001b[39m\u001b[38;5;241m*\u001b[39mkwargs)\n",
      "File \u001b[1;32m~\\AppData\\Roaming\\Python\\Python311\\site-packages\\sklearn\\model_selection\\_search.py:970\u001b[0m, in \u001b[0;36mBaseSearchCV.fit\u001b[1;34m(self, X, y, **params)\u001b[0m\n\u001b[0;32m    964\u001b[0m     results \u001b[38;5;241m=\u001b[39m \u001b[38;5;28mself\u001b[39m\u001b[38;5;241m.\u001b[39m_format_results(\n\u001b[0;32m    965\u001b[0m         all_candidate_params, n_splits, all_out, all_more_results\n\u001b[0;32m    966\u001b[0m     )\n\u001b[0;32m    968\u001b[0m     \u001b[38;5;28;01mreturn\u001b[39;00m results\n\u001b[1;32m--> 970\u001b[0m \u001b[38;5;28mself\u001b[39m\u001b[38;5;241m.\u001b[39m_run_search(evaluate_candidates)\n\u001b[0;32m    972\u001b[0m \u001b[38;5;66;03m# multimetric is determined here because in the case of a callable\u001b[39;00m\n\u001b[0;32m    973\u001b[0m \u001b[38;5;66;03m# self.scoring the return type is only known after calling\u001b[39;00m\n\u001b[0;32m    974\u001b[0m first_test_score \u001b[38;5;241m=\u001b[39m all_out[\u001b[38;5;241m0\u001b[39m][\u001b[38;5;124m\"\u001b[39m\u001b[38;5;124mtest_scores\u001b[39m\u001b[38;5;124m\"\u001b[39m]\n",
      "File \u001b[1;32m~\\AppData\\Roaming\\Python\\Python311\\site-packages\\sklearn\\model_selection\\_search.py:1914\u001b[0m, in \u001b[0;36mRandomizedSearchCV._run_search\u001b[1;34m(self, evaluate_candidates)\u001b[0m\n\u001b[0;32m   1912\u001b[0m \u001b[38;5;28;01mdef\u001b[39;00m \u001b[38;5;21m_run_search\u001b[39m(\u001b[38;5;28mself\u001b[39m, evaluate_candidates):\n\u001b[0;32m   1913\u001b[0m \u001b[38;5;250m    \u001b[39m\u001b[38;5;124;03m\"\"\"Search n_iter candidates from param_distributions\"\"\"\u001b[39;00m\n\u001b[1;32m-> 1914\u001b[0m     evaluate_candidates(\n\u001b[0;32m   1915\u001b[0m         ParameterSampler(\n\u001b[0;32m   1916\u001b[0m             \u001b[38;5;28mself\u001b[39m\u001b[38;5;241m.\u001b[39mparam_distributions, \u001b[38;5;28mself\u001b[39m\u001b[38;5;241m.\u001b[39mn_iter, random_state\u001b[38;5;241m=\u001b[39m\u001b[38;5;28mself\u001b[39m\u001b[38;5;241m.\u001b[39mrandom_state\n\u001b[0;32m   1917\u001b[0m         )\n\u001b[0;32m   1918\u001b[0m     )\n",
      "File \u001b[1;32m~\\AppData\\Roaming\\Python\\Python311\\site-packages\\sklearn\\model_selection\\_search.py:916\u001b[0m, in \u001b[0;36mBaseSearchCV.fit.<locals>.evaluate_candidates\u001b[1;34m(candidate_params, cv, more_results)\u001b[0m\n\u001b[0;32m    908\u001b[0m \u001b[38;5;28;01mif\u001b[39;00m \u001b[38;5;28mself\u001b[39m\u001b[38;5;241m.\u001b[39mverbose \u001b[38;5;241m>\u001b[39m \u001b[38;5;241m0\u001b[39m:\n\u001b[0;32m    909\u001b[0m     \u001b[38;5;28mprint\u001b[39m(\n\u001b[0;32m    910\u001b[0m         \u001b[38;5;124m\"\u001b[39m\u001b[38;5;124mFitting \u001b[39m\u001b[38;5;132;01m{0}\u001b[39;00m\u001b[38;5;124m folds for each of \u001b[39m\u001b[38;5;132;01m{1}\u001b[39;00m\u001b[38;5;124m candidates,\u001b[39m\u001b[38;5;124m\"\u001b[39m\n\u001b[0;32m    911\u001b[0m         \u001b[38;5;124m\"\u001b[39m\u001b[38;5;124m totalling \u001b[39m\u001b[38;5;132;01m{2}\u001b[39;00m\u001b[38;5;124m fits\u001b[39m\u001b[38;5;124m\"\u001b[39m\u001b[38;5;241m.\u001b[39mformat(\n\u001b[0;32m    912\u001b[0m             n_splits, n_candidates, n_candidates \u001b[38;5;241m*\u001b[39m n_splits\n\u001b[0;32m    913\u001b[0m         )\n\u001b[0;32m    914\u001b[0m     )\n\u001b[1;32m--> 916\u001b[0m out \u001b[38;5;241m=\u001b[39m parallel(\n\u001b[0;32m    917\u001b[0m     delayed(_fit_and_score)(\n\u001b[0;32m    918\u001b[0m         clone(base_estimator),\n\u001b[0;32m    919\u001b[0m         X,\n\u001b[0;32m    920\u001b[0m         y,\n\u001b[0;32m    921\u001b[0m         train\u001b[38;5;241m=\u001b[39mtrain,\n\u001b[0;32m    922\u001b[0m         test\u001b[38;5;241m=\u001b[39mtest,\n\u001b[0;32m    923\u001b[0m         parameters\u001b[38;5;241m=\u001b[39mparameters,\n\u001b[0;32m    924\u001b[0m         split_progress\u001b[38;5;241m=\u001b[39m(split_idx, n_splits),\n\u001b[0;32m    925\u001b[0m         candidate_progress\u001b[38;5;241m=\u001b[39m(cand_idx, n_candidates),\n\u001b[0;32m    926\u001b[0m         \u001b[38;5;241m*\u001b[39m\u001b[38;5;241m*\u001b[39mfit_and_score_kwargs,\n\u001b[0;32m    927\u001b[0m     )\n\u001b[0;32m    928\u001b[0m     \u001b[38;5;28;01mfor\u001b[39;00m (cand_idx, parameters), (split_idx, (train, test)) \u001b[38;5;129;01min\u001b[39;00m product(\n\u001b[0;32m    929\u001b[0m         \u001b[38;5;28menumerate\u001b[39m(candidate_params),\n\u001b[0;32m    930\u001b[0m         \u001b[38;5;28menumerate\u001b[39m(cv\u001b[38;5;241m.\u001b[39msplit(X, y, \u001b[38;5;241m*\u001b[39m\u001b[38;5;241m*\u001b[39mrouted_params\u001b[38;5;241m.\u001b[39msplitter\u001b[38;5;241m.\u001b[39msplit)),\n\u001b[0;32m    931\u001b[0m     )\n\u001b[0;32m    932\u001b[0m )\n\u001b[0;32m    934\u001b[0m \u001b[38;5;28;01mif\u001b[39;00m \u001b[38;5;28mlen\u001b[39m(out) \u001b[38;5;241m<\u001b[39m \u001b[38;5;241m1\u001b[39m:\n\u001b[0;32m    935\u001b[0m     \u001b[38;5;28;01mraise\u001b[39;00m \u001b[38;5;167;01mValueError\u001b[39;00m(\n\u001b[0;32m    936\u001b[0m         \u001b[38;5;124m\"\u001b[39m\u001b[38;5;124mNo fits were performed. \u001b[39m\u001b[38;5;124m\"\u001b[39m\n\u001b[0;32m    937\u001b[0m         \u001b[38;5;124m\"\u001b[39m\u001b[38;5;124mWas the CV iterator empty? \u001b[39m\u001b[38;5;124m\"\u001b[39m\n\u001b[0;32m    938\u001b[0m         \u001b[38;5;124m\"\u001b[39m\u001b[38;5;124mWere there no candidates?\u001b[39m\u001b[38;5;124m\"\u001b[39m\n\u001b[0;32m    939\u001b[0m     )\n",
      "File \u001b[1;32m~\\AppData\\Roaming\\Python\\Python311\\site-packages\\sklearn\\utils\\parallel.py:67\u001b[0m, in \u001b[0;36mParallel.__call__\u001b[1;34m(self, iterable)\u001b[0m\n\u001b[0;32m     62\u001b[0m config \u001b[38;5;241m=\u001b[39m get_config()\n\u001b[0;32m     63\u001b[0m iterable_with_config \u001b[38;5;241m=\u001b[39m (\n\u001b[0;32m     64\u001b[0m     (_with_config(delayed_func, config), args, kwargs)\n\u001b[0;32m     65\u001b[0m     \u001b[38;5;28;01mfor\u001b[39;00m delayed_func, args, kwargs \u001b[38;5;129;01min\u001b[39;00m iterable\n\u001b[0;32m     66\u001b[0m )\n\u001b[1;32m---> 67\u001b[0m \u001b[38;5;28;01mreturn\u001b[39;00m \u001b[38;5;28msuper\u001b[39m()\u001b[38;5;241m.\u001b[39m\u001b[38;5;21m__call__\u001b[39m(iterable_with_config)\n",
      "File \u001b[1;32mC:\\ProgramData\\anaconda3\\Lib\\site-packages\\joblib\\parallel.py:1098\u001b[0m, in \u001b[0;36mParallel.__call__\u001b[1;34m(self, iterable)\u001b[0m\n\u001b[0;32m   1095\u001b[0m     \u001b[38;5;28mself\u001b[39m\u001b[38;5;241m.\u001b[39m_iterating \u001b[38;5;241m=\u001b[39m \u001b[38;5;28;01mFalse\u001b[39;00m\n\u001b[0;32m   1097\u001b[0m \u001b[38;5;28;01mwith\u001b[39;00m \u001b[38;5;28mself\u001b[39m\u001b[38;5;241m.\u001b[39m_backend\u001b[38;5;241m.\u001b[39mretrieval_context():\n\u001b[1;32m-> 1098\u001b[0m     \u001b[38;5;28mself\u001b[39m\u001b[38;5;241m.\u001b[39mretrieve()\n\u001b[0;32m   1099\u001b[0m \u001b[38;5;66;03m# Make sure that we get a last message telling us we are done\u001b[39;00m\n\u001b[0;32m   1100\u001b[0m elapsed_time \u001b[38;5;241m=\u001b[39m time\u001b[38;5;241m.\u001b[39mtime() \u001b[38;5;241m-\u001b[39m \u001b[38;5;28mself\u001b[39m\u001b[38;5;241m.\u001b[39m_start_time\n",
      "File \u001b[1;32mC:\\ProgramData\\anaconda3\\Lib\\site-packages\\joblib\\parallel.py:975\u001b[0m, in \u001b[0;36mParallel.retrieve\u001b[1;34m(self)\u001b[0m\n\u001b[0;32m    973\u001b[0m \u001b[38;5;28;01mtry\u001b[39;00m:\n\u001b[0;32m    974\u001b[0m     \u001b[38;5;28;01mif\u001b[39;00m \u001b[38;5;28mgetattr\u001b[39m(\u001b[38;5;28mself\u001b[39m\u001b[38;5;241m.\u001b[39m_backend, \u001b[38;5;124m'\u001b[39m\u001b[38;5;124msupports_timeout\u001b[39m\u001b[38;5;124m'\u001b[39m, \u001b[38;5;28;01mFalse\u001b[39;00m):\n\u001b[1;32m--> 975\u001b[0m         \u001b[38;5;28mself\u001b[39m\u001b[38;5;241m.\u001b[39m_output\u001b[38;5;241m.\u001b[39mextend(job\u001b[38;5;241m.\u001b[39mget(timeout\u001b[38;5;241m=\u001b[39m\u001b[38;5;28mself\u001b[39m\u001b[38;5;241m.\u001b[39mtimeout))\n\u001b[0;32m    976\u001b[0m     \u001b[38;5;28;01melse\u001b[39;00m:\n\u001b[0;32m    977\u001b[0m         \u001b[38;5;28mself\u001b[39m\u001b[38;5;241m.\u001b[39m_output\u001b[38;5;241m.\u001b[39mextend(job\u001b[38;5;241m.\u001b[39mget())\n",
      "File \u001b[1;32mC:\\ProgramData\\anaconda3\\Lib\\site-packages\\joblib\\_parallel_backends.py:567\u001b[0m, in \u001b[0;36mLokyBackend.wrap_future_result\u001b[1;34m(future, timeout)\u001b[0m\n\u001b[0;32m    564\u001b[0m \u001b[38;5;250m\u001b[39m\u001b[38;5;124;03m\"\"\"Wrapper for Future.result to implement the same behaviour as\u001b[39;00m\n\u001b[0;32m    565\u001b[0m \u001b[38;5;124;03mAsyncResults.get from multiprocessing.\"\"\"\u001b[39;00m\n\u001b[0;32m    566\u001b[0m \u001b[38;5;28;01mtry\u001b[39;00m:\n\u001b[1;32m--> 567\u001b[0m     \u001b[38;5;28;01mreturn\u001b[39;00m future\u001b[38;5;241m.\u001b[39mresult(timeout\u001b[38;5;241m=\u001b[39mtimeout)\n\u001b[0;32m    568\u001b[0m \u001b[38;5;28;01mexcept\u001b[39;00m CfTimeoutError \u001b[38;5;28;01mas\u001b[39;00m e:\n\u001b[0;32m    569\u001b[0m     \u001b[38;5;28;01mraise\u001b[39;00m \u001b[38;5;167;01mTimeoutError\u001b[39;00m \u001b[38;5;28;01mfrom\u001b[39;00m \u001b[38;5;21;01me\u001b[39;00m\n",
      "File \u001b[1;32mC:\\ProgramData\\anaconda3\\Lib\\concurrent\\futures\\_base.py:451\u001b[0m, in \u001b[0;36mFuture.result\u001b[1;34m(self, timeout)\u001b[0m\n\u001b[0;32m    448\u001b[0m \u001b[38;5;28;01melif\u001b[39;00m \u001b[38;5;28mself\u001b[39m\u001b[38;5;241m.\u001b[39m_state \u001b[38;5;241m==\u001b[39m FINISHED:\n\u001b[0;32m    449\u001b[0m     \u001b[38;5;28;01mreturn\u001b[39;00m \u001b[38;5;28mself\u001b[39m\u001b[38;5;241m.\u001b[39m__get_result()\n\u001b[1;32m--> 451\u001b[0m \u001b[38;5;28mself\u001b[39m\u001b[38;5;241m.\u001b[39m_condition\u001b[38;5;241m.\u001b[39mwait(timeout)\n\u001b[0;32m    453\u001b[0m \u001b[38;5;28;01mif\u001b[39;00m \u001b[38;5;28mself\u001b[39m\u001b[38;5;241m.\u001b[39m_state \u001b[38;5;129;01min\u001b[39;00m [CANCELLED, CANCELLED_AND_NOTIFIED]:\n\u001b[0;32m    454\u001b[0m     \u001b[38;5;28;01mraise\u001b[39;00m CancelledError()\n",
      "File \u001b[1;32mC:\\ProgramData\\anaconda3\\Lib\\threading.py:320\u001b[0m, in \u001b[0;36mCondition.wait\u001b[1;34m(self, timeout)\u001b[0m\n\u001b[0;32m    318\u001b[0m \u001b[38;5;28;01mtry\u001b[39;00m:    \u001b[38;5;66;03m# restore state no matter what (e.g., KeyboardInterrupt)\u001b[39;00m\n\u001b[0;32m    319\u001b[0m     \u001b[38;5;28;01mif\u001b[39;00m timeout \u001b[38;5;129;01mis\u001b[39;00m \u001b[38;5;28;01mNone\u001b[39;00m:\n\u001b[1;32m--> 320\u001b[0m         waiter\u001b[38;5;241m.\u001b[39macquire()\n\u001b[0;32m    321\u001b[0m         gotit \u001b[38;5;241m=\u001b[39m \u001b[38;5;28;01mTrue\u001b[39;00m\n\u001b[0;32m    322\u001b[0m     \u001b[38;5;28;01melse\u001b[39;00m:\n",
      "\u001b[1;31mKeyboardInterrupt\u001b[0m: "
     ]
    }
   ],
   "source": [
    "#Perform Cross-Validation and Hyperparameter Tuning\n",
    "from sklearn.model_selection import RandomizedSearchCV, StratifiedKFold\n",
    "\n",
    "best_models = {}\n",
    "for model_name, model in models.items():\n",
    "    print(f\"Running RandomizedSearchCV for {model_name}...\")\n",
    "    \n",
    "    param_grid = param_grids[model_name]\n",
    "    cv = StratifiedKFold(n_splits=5, shuffle=True, random_state=42)\n",
    "    \n",
    "    search = RandomizedSearchCV(\n",
    "        model, param_grid, n_iter=50, scoring='accuracy', cv=cv, n_jobs=-1, random_state=42\n",
    "    )\n",
    "    search.fit(X_train, Y_train)\n",
    "    \n",
    "    best_model = search.best_estimator_\n",
    "    best_score = search.best_score_\n",
    "    best_params = search.best_params_\n",
    "    \n",
    "    Y_test_pred = best_model.predict(X_test)\n",
    "    test_accuracy = accuracy_score(Y_test, Y_test_pred)\n",
    "    \n",
    "    print(f\"Best parameters for {model_name}: {best_params}\")\n",
    "    print(f\"Best cross-validation score: {best_score:.4f}\")\n",
    "    print(f\"Test Accuracy = {test_accuracy:.4f}\")\n",
    "    print(\"-\" * 50)\n",
    "    \n",
    "    best_models[model_name] = best_model\n"
   ]
  },
  {
   "cell_type": "code",
   "execution_count": null,
   "id": "9e3a71a1",
   "metadata": {
    "scrolled": true
   },
   "outputs": [],
   "source": [
    "#Evaluate All Best Models\n",
    "for model_name, model in best_models.items():\n",
    "    Y_test_pred = model.predict(X_test)\n",
    "    test_accuracy = accuracy_score(Y_test, Y_test_pred)\n",
    "    print(f\"{model_name} Test Accuracy = {test_accuracy:.4f}\")\n"
   ]
  },
  {
   "cell_type": "markdown",
   "id": "fe633fb0",
   "metadata": {},
   "source": [
    "# THE BEST MODEL IS SVC SO WE GONNA REFINED HAYPER TUNE IT.\n"
   ]
  },
  {
   "cell_type": "code",
   "execution_count": null,
   "id": "eb0ffeb7",
   "metadata": {},
   "outputs": [],
   "source": [
    "# Refined Hyperparameter Tuning with GridSearchCV for SVC\n",
    "param_dist_svc = {\n",
    "    'C': np.logspace(-3, 3, 7),\n",
    "    'kernel': ['linear', 'rbf', 'poly', 'sigmoid'],\n",
    "    'gamma': ['scale', 'auto']\n",
    "}\n",
    "\n",
    "# Perform RandomizedSearchCV\n",
    "random_search_svc = RandomizedSearchCV(SVC(), param_distributions=param_dist_svc, n_iter=20, \n",
    "                                        scoring='accuracy', cv=5, n_jobs=-1, random_state=42)\n",
    "random_search_svc.fit(X_train, Y_train)\n",
    "\n",
    "best_svc = random_search_svc.best_estimator_\n",
    "print(f\"Best Parameters for SVC: {random_search_svc.best_params_}\")\n",
    "print(f\"Best CV Score for SVC: {random_search_svc.best_score_:.4f}\")\n"
   ]
  },
  {
   "cell_type": "markdown",
   "id": "3792b65b",
   "metadata": {},
   "source": [
    "# MODEL EVALUATION"
   ]
  },
  {
   "cell_type": "code",
   "execution_count": null,
   "id": "64f8adab",
   "metadata": {
    "scrolled": false
   },
   "outputs": [],
   "source": [
    "from sklearn.metrics import confusion_matrix, classification_report, roc_auc_score, roc_curve, accuracy_score\n",
    "import numpy as np\n",
    "import matplotlib.pyplot as plt\n",
    "\n",
    "Y_test_pred = best_svc.predict(X_test)\n",
    "\n",
    "# Accuracy\n",
    "test_accuracy = accuracy_score(Y_test, Y_test_pred)\n",
    "print(f\"Test Accuracy for SVC: {test_accuracy:.4f}\")\n",
    "\n",
    "# Confusion Matrix\n",
    "cm = confusion_matrix(Y_test, Y_test_pred)\n",
    "print(\"Confusion Matrix:\")\n",
    "print(cm)\n",
    "\n",
    "# Classification Report\n",
    "cr = classification_report(Y_test, Y_test_pred)\n",
    "print(\"Classification Report:\")\n",
    "print(cr)\n",
    "\n",
    "# ROC AUC Score\n",
    "if len(np.unique(Y_test)) == 2:  # ROC AUC is only applicable for binary classification\n",
    "    roc_auc = roc_auc_score(Y_test, best_svc.decision_function(X_test))\n",
    "    fpr, tpr, _ = roc_curve(Y_test, best_svc.decision_function(X_test))\n",
    "    plt.figure()\n",
    "    plt.plot(fpr, tpr, marker='.')\n",
    "    plt.xlabel('False Positive Rate')\n",
    "    plt.ylabel('True Positive Rate')\n",
    "    plt.title('ROC Curve')\n",
    "    plt.show()\n",
    "    print(f\"ROC AUC Score: {roc_auc:.4f}\")\n"
   ]
  },
  {
   "cell_type": "markdown",
   "id": "7fc58a22",
   "metadata": {},
   "source": [
    "THE SVC ROC AUC SCORE IS VERY POOR SO WE GONNA GO WITH OTHER MODEL"
   ]
  },
  {
   "cell_type": "markdown",
   "id": "0c5dcd68",
   "metadata": {},
   "source": [
    "# RANDOM FOREST"
   ]
  },
  {
   "cell_type": "code",
   "execution_count": null,
   "id": "815d732f",
   "metadata": {},
   "outputs": [],
   "source": [
    "# Define the parameter grid \n",
    "param_grid = {\n",
    "    'n_estimators': [50, 100, 200, 400, 600, 800, 1000],\n",
    "    'max_features': ['auto', 'sqrt', 'log2'],\n",
    "    'max_depth': [None, 10, 20, 30, 40, 50, 60],\n",
    "    'min_samples_split': [2, 5, 10],\n",
    "    'min_samples_leaf': [1, 2, 4],\n",
    "    'bootstrap': [True, False]\n",
    "}\n",
    "\n",
    "# Initialize the classifier\n",
    "rf = RandomForestClassifier()\n",
    "\n",
    "# Initialize RandomizedSearchCV\n",
    "rf_random = RandomizedSearchCV(estimator=rf, param_distributions=param_grid, \n",
    "                               n_iter=100, cv=3, verbose=2, random_state=42, n_jobs=-1)\n",
    "\n",
    "# Fit the model\n",
    "rf_random.fit(X_train, Y_train)\n",
    "\n",
    "# Display the best parameters\n",
    "print(\"Best Parameters found by RandomizedSearchCV:\")\n",
    "print(rf_random.best_params_)\n",
    "\n",
    "# Train the model with the best parameters\n",
    "best_rf = rf_random.best_estimator_\n",
    "best_rf.fit(X_train, Y_train)\n"
   ]
  },
  {
   "cell_type": "code",
   "execution_count": null,
   "id": "51f16e8b",
   "metadata": {},
   "outputs": [],
   "source": []
  },
  {
   "cell_type": "code",
   "execution_count": null,
   "id": "24906255",
   "metadata": {},
   "outputs": [],
   "source": [
    "# Make predictions on the test set\n",
    "# Make predictions on the test set\n",
    "Y_pred = best_rf.predict(X_test)\n",
    "\n",
    "# Accuracy score\n",
    "accuracy = accuracy_score(Y_test, Y_pred)\n",
    "print(f\"Accuracy: {accuracy:.2f}\")\n",
    "\n",
    "# Confusion Matrix\n",
    "conf_matrix = confusion_matrix(Y_test, Y_pred)\n",
    "print(\"Confusion Matrix:\")\n",
    "print(conf_matrix)\n",
    "\n",
    "# Classification Report\n",
    "class_report = classification_report(Y_test, Y_pred)\n",
    "print(\"Classification Report:\")\n",
    "print(class_report)\n"
   ]
  },
  {
   "cell_type": "code",
   "execution_count": null,
   "id": "993e8826",
   "metadata": {},
   "outputs": [],
   "source": [
    "print(hu)"
   ]
  },
  {
   "cell_type": "code",
   "execution_count": null,
   "id": "74028150",
   "metadata": {
    "scrolled": false
   },
   "outputs": [],
   "source": [
    "# Plot the ROC curve\n",
    "plt.figure(figsize=(10, 6))\n",
    "plt.plot(fpr, tpr, color='darkorange', lw=2, label=f'ROC curve (area = {roc_auc:.2f})')\n",
    "plt.plot([0, 1], [0, 1], color='navy', lw=2, linestyle='--')\n",
    "plt.xlim([0.0, 1.0])\n",
    "plt.ylim([0.0, 1.05])\n",
    "plt.xlabel('False Positive Rate')\n",
    "plt.ylabel('True Positive Rate')\n",
    "plt.title('Receiver Operating Characteristic (ROC) Curve')\n",
    "plt.legend(loc=\"lower right\")\n",
    "plt.show()\n",
    "\n",
    "# Get the predicted probabilities for the positive class\n",
    "y_prob = best_rf.predict_proba(X_test)[:, 1]\n",
    "\n",
    "# Calculate the ROC AUC score\n",
    "roc_auc_score_value = roc_auc_score(Y_test, y_prob)\n",
    "\n",
    "print(f\"ROC AUC Score: {roc_auc_score_value:.2f}\")"
   ]
  },
  {
   "cell_type": "markdown",
   "id": "e74caf80",
   "metadata": {},
   "source": [
    "Summary of Model Evaluation and Performance\n",
    "\n",
    "Objective:\n",
    "\n",
    "To identify the best classifier for predicting Titanic survival and assess its performance comprehensively.\n",
    "\n",
    "Models Evaluated:\n",
    "\n",
    "1.DecisionTreeClassifier\n",
    "\n",
    "2.SVC\n",
    "\n",
    "3.RandomForestClassifier\n",
    "\n",
    "4.KNeighborsClassifier\n",
    "\n",
    "5.LogisticRegression\n",
    "\n",
    "6.GradientBoostingClassifier\n",
    "\n",
    "Key Findings:\n",
    "\n",
    "Random frest achieved the highest accuracy after hyperparameter tuning, indicating strong performance.\n",
    "Metrics such as the confusion matrix, classification report, and ROC AUC score provide a fuller picture of model effectiveness beyond accuracy alone."
   ]
  },
  {
   "cell_type": "code",
   "execution_count": null,
   "id": "62e95619",
   "metadata": {},
   "outputs": [],
   "source": []
  }
 ],
 "metadata": {
  "kernelspec": {
   "display_name": "Python 3 (ipykernel)",
   "language": "python",
   "name": "python3"
  },
  "language_info": {
   "codemirror_mode": {
    "name": "ipython",
    "version": 3
   },
   "file_extension": ".py",
   "mimetype": "text/x-python",
   "name": "python",
   "nbconvert_exporter": "python",
   "pygments_lexer": "ipython3",
   "version": "3.11.5"
  }
 },
 "nbformat": 4,
 "nbformat_minor": 5
}
