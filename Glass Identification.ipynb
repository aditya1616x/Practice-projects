{
 "cells": [
  {
   "cell_type": "code",
   "execution_count": null,
   "id": "9f312713",
   "metadata": {},
   "outputs": [],
   "source": [
    "                                           #Glass Identification"
   ]
  },
  {
   "cell_type": "code",
   "execution_count": 17,
   "id": "f66a369e",
   "metadata": {},
   "outputs": [
    {
     "name": "stdout",
     "output_type": "stream",
     "text": [
      "   1  1.52101  13.64  4.49  1.10  71.78  0.06  8.75  0.00  0.00.1  1.1\n",
      "0  2  1.51761  13.89  3.60  1.36  72.73  0.48  7.83   0.0    0.00    1\n",
      "1  3  1.51618  13.53  3.55  1.54  72.99  0.39  7.78   0.0    0.00    1\n",
      "2  4  1.51766  13.21  3.69  1.29  72.61  0.57  8.22   0.0    0.00    1\n",
      "3  5  1.51742  13.27  3.62  1.24  73.08  0.55  8.07   0.0    0.00    1\n",
      "4  6  1.51596  12.79  3.61  1.62  72.97  0.64  8.07   0.0    0.26    1\n",
      "Index(['1', '1.52101', '13.64', '4.49', '1.10', '71.78', '0.06', '8.75',\n",
      "       '0.00', '0.00.1', '1.1'],\n",
      "      dtype='object')\n",
      "Column 'Type of glass' not found in the dataset.\n"
     ]
    }
   ],
   "source": [
    "import pandas as pd\n",
    "\n",
    "#Load the dataset\n",
    "url = \"https://github.com/FlipRoboTechnologies/ML-Datasets/raw/main/Glass%20Identification/Glass%20Identification.csv\"\n",
    "glass_data = pd.read_csv(url)\n",
    "\n",
    "#Explore the data\n",
    "print(glass_data.head())\n",
    "print(glass_data.columns)  \n",
    "\n",
    "# Check if the column 'Type of glass' exists\n",
    "if 'Type of glass' in glass_data.columns:\n",
    "    # Step 4: Prepare the data\n",
    "    X = glass_data.drop(columns=['Type of glass'])\n",
    "    y = glass_data['Type of glass']\n",
    "\n",
    "    # Split the data into training and testing sets\n",
    "    from sklearn.model_selection import train_test_split\n",
    "\n",
    "    X_train, X_test, y_train, y_test = train_test_split(X, y, test_size=0.2, random_state=42)\n",
    "\n",
    "    # Choose and train a model\n",
    "    from sklearn.ensemble import RandomForestClassifier\n",
    "\n",
    "    model = RandomForestClassifier(n_estimators=100, random_state=42)\n",
    "    model.fit(X_train, y_train)\n",
    "\n",
    "    # Evaluate the model\n",
    "    from sklearn.metrics import accuracy_score\n",
    "\n",
    "    y_pred = model.predict(X_test)\n",
    "    accuracy = accuracy_score(y_test, y_pred)\n",
    "    print(\"Accuracy:\", accuracy)\n",
    "\n",
    "else:\n",
    "    print(\"Column 'Type of glass' not found in the dataset.\")\n"
   ]
  },
  {
   "cell_type": "code",
   "execution_count": null,
   "id": "9f0110ed",
   "metadata": {},
   "outputs": [],
   "source": []
  }
 ],
 "metadata": {
  "kernelspec": {
   "display_name": "Python 3 (ipykernel)",
   "language": "python",
   "name": "python3"
  },
  "language_info": {
   "codemirror_mode": {
    "name": "ipython",
    "version": 3
   },
   "file_extension": ".py",
   "mimetype": "text/x-python",
   "name": "python",
   "nbconvert_exporter": "python",
   "pygments_lexer": "ipython3",
   "version": "3.11.5"
  }
 },
 "nbformat": 4,
 "nbformat_minor": 5
}
