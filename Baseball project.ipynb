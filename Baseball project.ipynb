{
 "cells": [
  {
   "cell_type": "code",
   "execution_count": null,
   "id": "637e92e5",
   "metadata": {},
   "outputs": [],
   "source": [
    "                                        #baseball project"
   ]
  },
  {
   "cell_type": "code",
   "execution_count": 35,
   "id": "a5780a66",
   "metadata": {},
   "outputs": [
    {
     "name": "stdout",
     "output_type": "stream",
     "text": [
      "First few rows of the dataset:\n",
      "    W    R    AB     H   2B  3B   HR   BB    SO   SB   RA   ER   ERA  CG  SHO  \\\n",
      "0  95  724  5575  1497  300  42  139  383   973  104  641  601  3.73   2    8   \n",
      "1  83  696  5467  1349  277  44  156  439  1264   70  700  653  4.07   2   12   \n",
      "2  81  669  5439  1395  303  29  141  533  1157   86  640  584  3.67  11   10   \n",
      "3  76  622  5533  1381  260  27  136  404  1231   68  701  643  3.98   7    9   \n",
      "4  74  689  5605  1515  289  49  151  455  1259   83  803  746  4.64   7   12   \n",
      "\n",
      "   SV    E  \n",
      "0  56   88  \n",
      "1  45   86  \n",
      "2  38   79  \n",
      "3  37  101  \n",
      "4  35   86  \n"
     ]
    }
   ],
   "source": [
    "import pandas as pd\n",
    "\n",
    "# Load the dataset\n",
    "\n",
    "url = \"https://raw.githubusercontent.com/FlipRoboTechnologies/ML_-Datasets/main/Baseball/baseball.csv\"\n",
    "\n",
    "baseball_data = pd.read_csv(url)\n",
    "\n",
    "# Display the first few rows of the dataset\n",
    "\n",
    "print(\"First few rows of the dataset:\")\n",
    "\n",
    "print(baseball_data.head())"
   ]
  },
  {
   "cell_type": "code",
   "execution_count": 36,
   "id": "b42a46ef",
   "metadata": {},
   "outputs": [
    {
     "name": "stdout",
     "output_type": "stream",
     "text": [
      "\n",
      "Missing values in the dataset:\n",
      "W      0\n",
      "R      0\n",
      "AB     0\n",
      "H      0\n",
      "2B     0\n",
      "3B     0\n",
      "HR     0\n",
      "BB     0\n",
      "SO     0\n",
      "SB     0\n",
      "RA     0\n",
      "ER     0\n",
      "ERA    0\n",
      "CG     0\n",
      "SHO    0\n",
      "SV     0\n",
      "E      0\n",
      "dtype: int64\n"
     ]
    }
   ],
   "source": [
    "# Check for missing values\n",
    "print(\"\\nMissing values in the dataset:\")\n",
    "print(baseball_data.isnull().sum())"
   ]
  },
  {
   "cell_type": "code",
   "execution_count": 37,
   "id": "166d8b6b",
   "metadata": {},
   "outputs": [
    {
     "name": "stdout",
     "output_type": "stream",
     "text": [
      "\n",
      "Summary statistics of numerical features:\n",
      "                W           R           AB            H          2B  \\\n",
      "count   30.000000   30.000000    30.000000    30.000000   30.000000   \n",
      "mean    80.966667  688.233333  5516.266667  1403.533333  274.733333   \n",
      "std     10.453455   58.761754    70.467372    57.140923   18.095405   \n",
      "min     63.000000  573.000000  5385.000000  1324.000000  236.000000   \n",
      "25%     74.000000  651.250000  5464.000000  1363.000000  262.250000   \n",
      "50%     81.000000  689.000000  5510.000000  1382.500000  275.500000   \n",
      "75%     87.750000  718.250000  5570.000000  1451.500000  288.750000   \n",
      "max    100.000000  891.000000  5649.000000  1515.000000  308.000000   \n",
      "\n",
      "              3B          HR          BB          SO          SB          RA  \\\n",
      "count  30.000000   30.000000   30.000000    30.00000   30.000000   30.000000   \n",
      "mean   31.300000  163.633333  469.100000  1248.20000   83.500000  688.233333   \n",
      "std    10.452355   31.823309   57.053725   103.75947   22.815225   72.108005   \n",
      "min    13.000000  100.000000  375.000000   973.00000   44.000000  525.000000   \n",
      "25%    23.000000  140.250000  428.250000  1157.50000   69.000000  636.250000   \n",
      "50%    31.000000  158.500000  473.000000  1261.50000   83.500000  695.500000   \n",
      "75%    39.000000  177.000000  501.250000  1311.50000   96.500000  732.500000   \n",
      "max    49.000000  232.000000  570.000000  1518.00000  134.000000  844.000000   \n",
      "\n",
      "               ER        ERA         CG        SHO         SV           E  \n",
      "count   30.000000  30.000000  30.000000  30.000000  30.000000   30.000000  \n",
      "mean   635.833333   3.956333   3.466667  11.300000  43.066667   94.333333  \n",
      "std     70.140786   0.454089   2.763473   4.120177   7.869335   13.958889  \n",
      "min    478.000000   2.940000   0.000000   4.000000  28.000000   75.000000  \n",
      "25%    587.250000   3.682500   1.000000   9.000000  37.250000   86.000000  \n",
      "50%    644.500000   4.025000   3.000000  12.000000  42.000000   91.000000  \n",
      "75%    679.250000   4.220000   5.750000  13.000000  46.750000   96.750000  \n",
      "max    799.000000   5.040000  11.000000  21.000000  62.000000  126.000000  \n"
     ]
    }
   ],
   "source": [
    "# Summary statistics\n",
    "print(\"\\nSummary statistics of numerical features:\")\n",
    "print(baseball_data.describe())"
   ]
  },
  {
   "cell_type": "code",
   "execution_count": 38,
   "id": "de0d25c3",
   "metadata": {},
   "outputs": [],
   "source": [
    "# Import necessary libraries for modeling\n",
    "\n",
    "from sklearn.model_selection import train_test_split\n",
    "\n",
    "from sklearn.ensemble import RandomForestRegressor\n",
    "\n",
    "from sklearn.metrics import mean_squared_error\n",
    "\n",
    "# Prepare the data for modeling\n",
    "\n",
    "X = baseball_data.drop(columns=['W'])  # Features\n",
    "\n",
    "y = baseball_data['W']  # Target variable\n",
    "\n",
    "# Split the data into training and testing sets\n",
    "\n",
    "X_train, X_test, y_train, y_test = train_test_split(X, y, test_size=0.2, random_state=42)\n"
   ]
  },
  {
   "cell_type": "code",
   "execution_count": 39,
   "id": "b4876455",
   "metadata": {},
   "outputs": [
    {
     "name": "stdout",
     "output_type": "stream",
     "text": [
      "\n",
      "Mean Squared Error on the test set: 51.967916666666675\n"
     ]
    }
   ],
   "source": [
    "# Initialize the Random Forest Regressor model\n",
    "model = RandomForestRegressor(random_state=42)\n",
    "\n",
    "# Train the model\n",
    "model.fit(X_train, y_train)\n",
    "\n",
    "# Predict on the test set\n",
    "y_pred = model.predict(X_test)\n",
    "\n",
    "# Evaluate the model\n",
    "mse = mean_squared_error(y_test, y_pred)\n",
    "print(\"\\nMean Squared Error on the test set:\", mse)"
   ]
  },
  {
   "cell_type": "code",
   "execution_count": null,
   "id": "60ced294",
   "metadata": {},
   "outputs": [],
   "source": [
    "                                            #hyper parameter tuning"
   ]
  },
  {
   "cell_type": "code",
   "execution_count": null,
   "id": "2ef49ef7",
   "metadata": {},
   "outputs": [],
   "source": [
    "from sklearn.model_selection import GridSearchCV\n",
    "\n",
    "# Define the grid of hyperparameters\n",
    "param_grid = {\n",
    "    'n_estimators': [50, 100, 150],\n",
    "    'max_depth': [None, 10, 20],\n",
    "    'min_samples_split': [2, 5, 10],\n",
    "    'min_samples_leaf': [1, 2, 4]\n",
    "}\n"
   ]
  },
  {
   "cell_type": "code",
   "execution_count": 40,
   "id": "d6f69311",
   "metadata": {},
   "outputs": [
    {
     "name": "stdout",
     "output_type": "stream",
     "text": [
      "\n",
      "Best Hyperparameters: {'max_depth': None, 'min_samples_leaf': 1, 'min_samples_split': 2, 'n_estimators': 50}\n"
     ]
    }
   ],
   "source": [
    "# Initialize the Random Forest Regressor model\n",
    "\n",
    "model = RandomForestRegressor(random_state=42)\n",
    "\n",
    "# Initialize GridSearchCV\n",
    "\n",
    "grid_search = GridSearchCV(estimator=model, param_grid=param_grid, cv=5, scoring='neg_mean_squared_error', n_jobs=-1)\n",
    "\n",
    "# Perform GridSearchCV to find the best hyperparameters\n",
    "\n",
    "grid_search.fit(X_train, y_train)\n",
    "\n",
    "# Get the best hyperparameters\n",
    "\n",
    "best_params = grid_search.best_params_\n",
    "\n",
    "print(\"\\nBest Hyperparameters:\", best_params)\n",
    "\n",
    "# Use the best hyperparameters to train the final model\n",
    "\n",
    "best_model = grid_search.best_estimator_\n",
    "\n",
    "best_model.fit(X_train, y_train)\n",
    "\n",
    "# Predict on the test set using the final model\n",
    "\n",
    "y_pred_final = best_model.predict(X_test)\n",
    "\n"
   ]
  },
  {
   "cell_type": "code",
   "execution_count": 41,
   "id": "20176bb5",
   "metadata": {},
   "outputs": [
    {
     "name": "stdout",
     "output_type": "stream",
     "text": [
      "\n",
      "Mean Squared Error on the test set (final model): 58.03666666666668\n"
     ]
    }
   ],
   "source": [
    "# Evaluate the final model\n",
    "\n",
    "mse_final = mean_squared_error(y_test, y_pred_final)\n",
    "\n",
    "print(\"\\nMean Squared Error on the test set (final model):\", mse_final)\n"
   ]
  },
  {
   "cell_type": "code",
   "execution_count": null,
   "id": "ecc99689",
   "metadata": {},
   "outputs": [],
   "source": [
    "                                    #cross vaildation"
   ]
  },
  {
   "cell_type": "code",
   "execution_count": 43,
   "id": "44268f13",
   "metadata": {},
   "outputs": [
    {
     "name": "stdout",
     "output_type": "stream",
     "text": [
      "Linear Regression - Cross-Validation Mean Squared Error: 620.717061139371, Standard Deviation: 1029.9813695143064\n",
      "Decision Tree - Cross-Validation Mean Squared Error: 124.75999999999999, Standard Deviation: 79.50792664885684\n",
      "Random Forest - Cross-Validation Mean Squared Error: 46.74389699999998, Standard Deviation: 26.355675604097023\n",
      "SVR - Cross-Validation Mean Squared Error: 106.40779048455019, Standard Deviation: 41.337556302963556\n",
      "KNN - Cross-Validation Mean Squared Error: 61.40480000000002, Standard Deviation: 31.669756161991533\n"
     ]
    }
   ],
   "source": [
    "from sklearn.model_selection import cross_val_score\n",
    "from sklearn.linear_model import LinearRegression\n",
    "from sklearn.tree import DecisionTreeRegressor\n",
    "from sklearn.ensemble import RandomForestRegressor\n",
    "from sklearn.svm import SVR\n",
    "from sklearn.neighbors import KNeighborsRegressor\n",
    "\n",
    "# Initialize models\n",
    "models = {\n",
    "    \"Linear Regression\": LinearRegression(),\n",
    "    \"Decision Tree\": DecisionTreeRegressor(),\n",
    "    \"Random Forest\": RandomForestRegressor(),\n",
    "    \"SVR\": SVR(),\n",
    "    \"KNN\": KNeighborsRegressor()\n",
    "}\n",
    "\n",
    "# Perform cross-validation for each model\n",
    "for model_name, model in models.items():\n",
    "    cv_scores = cross_val_score(model, X_train, y_train, cv=5, scoring='neg_mean_squared_error')\n",
    "    cv_scores = -cv_scores  # Convert negative MSE scores to positive\n",
    "    mean_cv_score = cv_scores.mean()\n",
    "    std_cv_score = cv_scores.std()\n",
    "    print(f\"{model_name} - Cross-Validation Mean Squared Error: {mean_cv_score}, Standard Deviation: {std_cv_score}\")\n"
   ]
  },
  {
   "cell_type": "code",
   "execution_count": null,
   "id": "df5fcf03",
   "metadata": {},
   "outputs": [],
   "source": []
  }
 ],
 "metadata": {
  "kernelspec": {
   "display_name": "Python 3 (ipykernel)",
   "language": "python",
   "name": "python3"
  },
  "language_info": {
   "codemirror_mode": {
    "name": "ipython",
    "version": 3
   },
   "file_extension": ".py",
   "mimetype": "text/x-python",
   "name": "python",
   "nbconvert_exporter": "python",
   "pygments_lexer": "ipython3",
   "version": "3.11.5"
  }
 },
 "nbformat": 4,
 "nbformat_minor": 5
}
